{
 "cells": [
  {
   "cell_type": "code",
   "execution_count": 51,
   "metadata": {
    "collapsed": false
   },
   "outputs": [],
   "source": [
    "import ROOT\n",
    "import root_numpy as rnpy\n",
    "import pandas as pd\n",
    "import numpy as np\n",
    "%matplotlib inline\n",
    "import matplotlib.pyplot as plt\n",
    "import seaborn\n",
    "import pickle\n",
    "from keras.models import Sequential\n",
    "from keras.layers import Dense, Activation\n",
    "from keras.layers import LSTM"
   ]
  },
  {
   "cell_type": "code",
   "execution_count": 52,
   "metadata": {
    "collapsed": true
   },
   "outputs": [],
   "source": [
    "# build here the keras model\n",
    "def RNN_classifier():\n",
    "    model = Sequential()\n",
    "    \n",
    "    model.add(LSTM(32, input_dim = 8))\n",
    "    \n",
    "    # make an output layer with just 1 output -> for a binary classification problem: b-jet / not b-jet\n",
    "    model.add(Dense(1, activation='sigmoid'))\n",
    "    model.compile(loss='binary_crossentropy', optimizer='adam', metrics=['accuracy'])\n",
    "  \n",
    "    return model"
   ]
  },
  {
   "cell_type": "code",
   "execution_count": 79,
   "metadata": {
    "collapsed": true
   },
   "outputs": [],
   "source": [
    "batch_size_jets = 10\n",
    "batch_size_tracks = 50\n",
    "read_pos_jets = 0\n",
    "read_pos_tracks = 0\n",
    "number_chunks = 0\n",
    "chunks_limit = 1"
   ]
  },
  {
   "cell_type": "code",
   "execution_count": 80,
   "metadata": {
    "collapsed": false
   },
   "outputs": [],
   "source": [
    "while number_chunks < chunks_limit:\n",
    "    number_chunks += 1\n",
    "    \n",
    "    # read in new chunk of jet and track data\n",
    "    d1 = pd.DataFrame(rnpy.root2array(\"/mnt/t3nfs01/data01/shome/jpata/btv/gc/TagVarExtractor/GCa08e5e237323/TT_TuneCUETP8M1_13TeV-powheg-pythia8/job_0_out.root\",\n",
    "                                 treename = \"tagVars/ttree\", start = read_pos_jets, stop = read_pos_jets + batch_size_jets))\n",
    "    d2 = pd.DataFrame(rnpy.root2array(\"/mnt/t3nfs01/data01/shome/jpata/btv/gc/TagVarExtractor/GCa08e5e237323/TT_TuneCUETP8M1_13TeV-powheg-pythia8/job_0_out.root\",\n",
    "                                 treename = \"tagVars/ttree_track\", start = read_pos_tracks, stop = read_pos_tracks + batch_size_tracks))\n",
    "    \n",
    "    # figure out where the next chunk should start so that we don't count any jets multiple times\n",
    "    last_tracks = (int)(d2.tail(1)['Track_jetIndex'].iloc[0]-1)\n",
    "    last_jet = (int)(d1.tail(1)['Jet_jetIndex'].iloc[0]-1)\n",
    "    read_pos_jets += (d1.loc[d1['Jet_jetIndex'] == last_tracks].index[-1] + 1)\n",
    "    read_pos_tracks += (d2.loc[d2['Track_jetIndex'] == last_tracks].index[-1] + 1)\n",
    "\n",
    "    # add the track data to the jet list\n",
    "    d1['track_data'] = pd.np.empty((len(d1.index),0)).tolist()\n",
    "    \n",
    "    # iterate over the track list to join jets with the tracks belonging to them\n",
    "    for irow, row in d2.iterrows():\n",
    "        # these are the track data of the current track:\n",
    "        tracks = row[[\"Track_pt\", \"Track_eta\", \"Track_phi\", \"Track_dxy\", \"Track_dz\", \"Track_IP\", \"Track_IP2D\", \"Track_length\"]].as_matrix()\n",
    "        jet_index = int(row[\"Track_jetIndex\"])\n",
    "        if jet_index > last_tracks:\n",
    "            break\n",
    "        table_index = d1.loc[d1['Jet_jetIndex'] == jet_index].index[0]\n",
    "\n",
    "        # append the tracks data to the matching jet in the main table\n",
    "        d1['track_data'][table_index].append(tracks)\n",
    "    \n",
    "    # now divide the jets and put them in separate lists, according to their flavour\n",
    "    jets_b = []\n",
    "    jets_l = []\n",
    "    jets_c = []\n",
    "\n",
    "    # iterate over the jet list, with already matched tracks\n",
    "    for irow, row in d1.iterrows():\n",
    "        jet_index = int(row[\"Jet_jetIndex\"])\n",
    "        if jet_index > last_tracks:\n",
    "            break\n",
    "\n",
    "        flavour = int(row[\"Jet_flavour\"])\n",
    "\n",
    "        # select the right list this jet belongs to\n",
    "        if abs(flavour) == 5:\n",
    "            jets = jets_b\n",
    "        elif abs(flavour) == 4:\n",
    "            jets = jets_c\n",
    "        else:\n",
    "            jets = jets_l\n",
    "\n",
    "        # add the new jet to the list\n",
    "        jets += [(row[\"Jet_pt\"], row[\"Jet_eta\"], row[\"Jet_phi\"], row[\"Jet_mass\"], flavour, row[\"track_data\"])]\n",
    "        \n",
    "    # now, have sorted jets in three lists, can use them directly for training!"
   ]
  },
  {
   "cell_type": "code",
   "execution_count": 55,
   "metadata": {
    "collapsed": false
   },
   "outputs": [],
   "source": [
    "test = jets_b[0][-1]"
   ]
  },
  {
   "cell_type": "code",
   "execution_count": 87,
   "metadata": {
    "collapsed": false
   },
   "outputs": [],
   "source": [
    "# extract the tracks and put them in pt-order, hardest tracks first\n",
    "b_tracks = [cur[-1] for cur in jets_b]\n",
    "b_tracks = [sorted(cur, key = lambda tracks: tracks[0], reverse = True) for cur in b_tracks]"
   ]
  },
  {
   "cell_type": "code",
   "execution_count": 65,
   "metadata": {
    "collapsed": false
   },
   "outputs": [],
   "source": [
    "# sort the list of tracks in reverse pt-order: i.e. put the hardest track first!\n",
    "x=sorted(test, key = lambda tracks: tracks[0], reverse = True)"
   ]
  },
  {
   "cell_type": "code",
   "execution_count": 103,
   "metadata": {
    "collapsed": false
   },
   "outputs": [],
   "source": [
    "# make the output vector (1 ... b-jets, 0 ... non-b-jets)\n",
    "y_train = np.full((len(b_tracks), 1), 1, float)"
   ]
  },
  {
   "cell_type": "code",
   "execution_count": 69,
   "metadata": {
    "collapsed": false
   },
   "outputs": [],
   "source": [
    "by=np.array(1).reshape(1,1)"
   ]
  },
  {
   "cell_type": "code",
   "execution_count": 90,
   "metadata": {
    "collapsed": false
   },
   "outputs": [
    {
     "data": {
      "text/plain": [
       "array([ [array([ 12.0859375 ,   1.08896148,  -0.16641054,   0.02646352,\n",
       "         0.01300435,   0.02760686,   0.02646351,   3.06698036], dtype=float32), array([ 10.984375  ,   1.06442451,  -0.18750662,   0.03318312,\n",
       "         0.03779414,   0.04054669,   0.03318313,   1.70997262], dtype=float32), array([  7.34765625e+00,   1.11990726e+00,  -4.97098789e-02,\n",
       "        -2.66015623e-02,   1.53442379e-03,   2.66169552e-02,\n",
       "         2.66015567e-02,   3.82213205e-01], dtype=float32), array([  2.78320312e+00,   8.39381099e-01,  -3.69839042e-01,\n",
       "        -2.19482416e-03,  -2.47070310e-03,  -2.83815456e-03,\n",
       "        -2.19482300e-03,   1.27673065e-02], dtype=float32), array([ 2.5390625 ,  1.15927613, -0.06299405, -0.01549805, -0.04019531,\n",
       "        0.0277005 ,  0.01549804,  0.37648013], dtype=float32), array([ 2.21289062,  1.11386454, -0.14570315,  0.01983399, -0.00496338,\n",
       "       -0.02005092, -0.01983399,  0.16084765], dtype=float32)],\n",
       "       [array([ 5.20703125,  0.5877865 , -1.1446619 ,  0.02435589,  0.0248011 ,\n",
       "        0.03219644,  0.02435587,  0.16714081], dtype=float32), array([ 3.90625   ,  0.90511793, -0.80842561, -0.0309375 , -0.08109375,\n",
       "        0.06430867,  0.0309375 ,  0.32614323], dtype=float32), array([ 2.15039062,  0.62001401, -1.1384182 ,  0.02893731,  0.0083348 ,\n",
       "        0.02976158,  0.02893737,  0.17138834], dtype=float32), array([  1.36230469e+00,   6.89413130e-01,  -1.02835882e+00,\n",
       "         1.60546880e-02,  -2.72216188e-04,   1.60561614e-02,\n",
       "         1.60546862e-02,   2.08897203e-01], dtype=float32)],\n",
       "       [array([  4.50937500e+01,   3.11288796e-03,  -1.89097548e+00,\n",
       "         1.77539065e-02,   7.38281235e-02,   7.59325624e-02,\n",
       "         1.77539028e-02,   2.37392259e+00], dtype=float32), array([ 11.671875  ,   0.1525315 ,  -1.89224434,   0.03814453,\n",
       "        -0.24734375,   0.24745195,   0.03814454,   2.07175756], dtype=float32), array([  4.29296875e+00,  -1.79631948e-01,  -1.95396364e+00,\n",
       "         2.04833993e-03,   6.66503888e-03,   6.87129097e-03,\n",
       "         2.04834086e-03,   3.09318993e-02], dtype=float32), array([ 1.72265625,  0.06518754, -1.79976773, -0.00797852,  0.00373779,\n",
       "        0.0088073 ,  0.00797852,  0.07101433], dtype=float32), array([ 1.68359375, -0.08899198, -1.98023045, -0.00690918,  0.00249146,\n",
       "       -0.00734137, -0.00690918,  0.01722715], dtype=float32)]], dtype=object)"
      ]
     },
     "execution_count": 90,
     "metadata": {},
     "output_type": "execute_result"
    }
   ],
   "source": [
    "np.array(b_tracks)"
   ]
  },
  {
   "cell_type": "code",
   "execution_count": 66,
   "metadata": {
    "collapsed": false
   },
   "outputs": [],
   "source": [
    "b=np.array(x).reshape(1,6,8)"
   ]
  },
  {
   "cell_type": "code",
   "execution_count": 45,
   "metadata": {
    "collapsed": false
   },
   "outputs": [],
   "source": [
    "model = RNN_classifier()"
   ]
  },
  {
   "cell_type": "code",
   "execution_count": 62,
   "metadata": {
    "collapsed": false
   },
   "outputs": [
    {
     "name": "stderr",
     "output_type": "stream",
     "text": [
      "INFO (theano.gof.compilelock): Refreshing lock /mnt/t3nfs01/data01/shome/phwindis/.theano/compiledir_Linux-2.6-el6.x86_64-x86_64-with-redhat-6.6-Carbon-x86_64-2.7.12-64/lock_dir/lock\n"
     ]
    },
    {
     "name": "stdout",
     "output_type": "stream",
     "text": [
      "Epoch 1/10\n",
      "1/1 [==============================] - 0s - loss: 1.3731 - acc: 0.0000e+00\n",
      "Epoch 2/10\n",
      "1/1 [==============================] - 0s - loss: 1.3289 - acc: 0.0000e+00\n",
      "Epoch 3/10\n",
      "1/1 [==============================] - 0s - loss: 1.2858 - acc: 0.0000e+00\n",
      "Epoch 4/10\n",
      "1/1 [==============================] - 0s - loss: 1.2437 - acc: 0.0000e+00\n",
      "Epoch 5/10\n",
      "1/1 [==============================] - 0s - loss: 1.2027 - acc: 0.0000e+00\n",
      "Epoch 6/10\n",
      "1/1 [==============================] - 0s - loss: 1.1628 - acc: 0.0000e+00\n",
      "Epoch 7/10\n",
      "1/1 [==============================] - 0s - loss: 1.1240 - acc: 0.0000e+00\n",
      "Epoch 8/10\n",
      "1/1 [==============================] - 0s - loss: 1.0863 - acc: 0.0000e+00\n",
      "Epoch 9/10\n",
      "1/1 [==============================] - 0s - loss: 1.0497 - acc: 0.0000e+00\n",
      "Epoch 10/10\n",
      "1/1 [==============================] - 0s - loss: 1.0143 - acc: 0.0000e+00\n"
     ]
    },
    {
     "data": {
      "text/plain": [
       "<keras.callbacks.History at 0x7fe6ded18e90>"
      ]
     },
     "execution_count": 62,
     "metadata": {},
     "output_type": "execute_result"
    }
   ],
   "source": [
    "model.fit(b,by, batch_size = 1)"
   ]
  },
  {
   "cell_type": "code",
   "execution_count": 64,
   "metadata": {
    "collapsed": false
   },
   "outputs": [
    {
     "name": "stderr",
     "output_type": "stream",
     "text": [
      "INFO (theano.gof.compilelock): Refreshing lock /mnt/t3nfs01/data01/shome/phwindis/.theano/compiledir_Linux-2.6-el6.x86_64-x86_64-with-redhat-6.6-Carbon-x86_64-2.7.12-64/lock_dir/lock\n"
     ]
    },
    {
     "data": {
      "text/plain": [
       "array([[ 0.37535214]], dtype=float32)"
      ]
     },
     "execution_count": 64,
     "metadata": {},
     "output_type": "execute_result"
    }
   ],
   "source": [
    "model.predict(b, batch_size = 1)"
   ]
  },
  {
   "cell_type": "code",
   "execution_count": 67,
   "metadata": {
    "collapsed": false
   },
   "outputs": [
    {
     "data": {
      "text/plain": [
       "array([[[  1.20859375e+01,   1.08896148e+00,  -1.66410536e-01,\n",
       "           2.64635198e-02,   1.30043542e-02,   2.76068579e-02,\n",
       "           2.64635142e-02,   3.06698036e+00],\n",
       "        [  1.09843750e+01,   1.06442451e+00,  -1.87506616e-01,\n",
       "           3.31831202e-02,   3.77941430e-02,   4.05466929e-02,\n",
       "           3.31831314e-02,   1.70997262e+00],\n",
       "        [  7.34765625e+00,   1.11990726e+00,  -4.97098789e-02,\n",
       "          -2.66015623e-02,   1.53442379e-03,   2.66169552e-02,\n",
       "           2.66015567e-02,   3.82213205e-01],\n",
       "        [  2.78320312e+00,   8.39381099e-01,  -3.69839042e-01,\n",
       "          -2.19482416e-03,  -2.47070310e-03,  -2.83815456e-03,\n",
       "          -2.19482300e-03,   1.27673065e-02],\n",
       "        [  2.53906250e+00,   1.15927613e+00,  -6.29940480e-02,\n",
       "          -1.54980468e-02,  -4.01953124e-02,   2.77004987e-02,\n",
       "           1.54980412e-02,   3.76480132e-01],\n",
       "        [  2.21289062e+00,   1.11386454e+00,  -1.45703152e-01,\n",
       "           1.98339857e-02,  -4.96337889e-03,  -2.00509205e-02,\n",
       "          -1.98339894e-02,   1.60847649e-01]]], dtype=float32)"
      ]
     },
     "execution_count": 67,
     "metadata": {},
     "output_type": "execute_result"
    }
   ],
   "source": [
    "b"
   ]
  },
  {
   "cell_type": "code",
   "execution_count": 99,
   "metadata": {
    "collapsed": false
   },
   "outputs": [
    {
     "data": {
      "text/plain": [
       "array([[1]])"
      ]
     },
     "execution_count": 99,
     "metadata": {},
     "output_type": "execute_result"
    }
   ],
   "source": [
    "by"
   ]
  },
  {
   "cell_type": "code",
   "execution_count": null,
   "metadata": {
    "collapsed": true
   },
   "outputs": [],
   "source": []
  }
 ],
 "metadata": {
  "anaconda-cloud": {},
  "kernelspec": {
   "display_name": "Python [conda root]",
   "language": "python",
   "name": "conda-root-py"
  },
  "language_info": {
   "codemirror_mode": {
    "name": "ipython",
    "version": 2
   },
   "file_extension": ".py",
   "mimetype": "text/x-python",
   "name": "python",
   "nbconvert_exporter": "python",
   "pygments_lexer": "ipython2",
   "version": "2.7.12"
  }
 },
 "nbformat": 4,
 "nbformat_minor": 1
}
