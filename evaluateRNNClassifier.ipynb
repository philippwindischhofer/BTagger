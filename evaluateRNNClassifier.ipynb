{
 "cells": [
  {
   "cell_type": "code",
   "execution_count": 1,
   "metadata": {
    "collapsed": false
   },
   "outputs": [
    {
     "data": {
      "application/javascript": [
       "require(['codemirror/mode/clike/clike'], function(Clike) { console.log('ROOTaaS - C++ CodeMirror module loaded'); });"
      ]
     },
     "metadata": {},
     "output_type": "display_data"
    },
    {
     "data": {
      "application/javascript": [
       "IPython.CodeCell.config_defaults.highlight_modes['magic_text/x-c++src'] = {'reg':[/^%%cpp/]};"
      ]
     },
     "metadata": {},
     "output_type": "display_data"
    },
    {
     "name": "stdout",
     "output_type": "stream",
     "text": [
      "Welcome to ROOTaaS 6.06/08\n"
     ]
    },
    {
     "name": "stderr",
     "output_type": "stream",
     "text": [
      "Using Theano backend.\n"
     ]
    }
   ],
   "source": [
    "from __future__ import division\n",
    "import ROOT\n",
    "import root_numpy as rnpy\n",
    "import pandas as pd\n",
    "import numpy as np\n",
    "%matplotlib inline\n",
    "import matplotlib.pyplot as plt\n",
    "import seaborn\n",
    "import pickle\n",
    "from keras.models import Sequential, load_model\n",
    "from keras.layers import Dense, Activation\n",
    "from keras.layers import LSTM"
   ]
  },
  {
   "cell_type": "code",
   "execution_count": 2,
   "metadata": {
    "collapsed": true
   },
   "outputs": [],
   "source": [
    "def prepare_training_data(jet_list, label, set_tracks):\n",
    "    # extract the tracks and put them in pt-order, hardest tracks first\n",
    "    jet_tracks = [cur[-1] for cur in jet_list]\n",
    "    jet_tracks = [sorted(cur, key = lambda tracks: tracks[0], reverse = True) for cur in jet_tracks]\n",
    "    \n",
    "    # zero-pad the track dimension, to make sure all jets fed into the network during training have the same length\n",
    "    max_tracks = max([len(cur) for cur in jet_tracks])\n",
    "    min_tracks = min([len(cur) for cur in jet_tracks])\n",
    "    padded = [np.vstack([cur, np.full((set_tracks - len(cur), 8), 0, float)]) for cur in jet_tracks]\n",
    "    \n",
    "    batch_size = len(padded)\n",
    "    timestep_size = set_tracks\n",
    "    jet_dim = 8\n",
    "    x_train = np.array(padded).reshape(batch_size, timestep_size, jet_dim)\n",
    "    y_train = np.full((batch_size, 1), 1, float) # all are b-jets!\n",
    "    \n",
    "    return x_train, y_train, batch_size"
   ]
  },
  {
   "cell_type": "code",
   "execution_count": 3,
   "metadata": {
    "collapsed": true
   },
   "outputs": [],
   "source": [
    "def get_max_tracks(jets_b, jets_l, jets_c):\n",
    "    b_tracks = [cur[-1] for cur in jets_b]\n",
    "    l_tracks = [cur[-1] for cur in jets_l]\n",
    "    c_tracks = [cur[-1] for cur in jets_c]\n",
    "    \n",
    "    max_tracks_b = max([len(cur) for cur in b_tracks])\n",
    "    max_tracks_l = max([len(cur) for cur in l_tracks])\n",
    "    max_tracks_c = max([len(cur) for cur in c_tracks])\n",
    "    \n",
    "    return np.max([max_tracks_b, max_tracks_l, max_tracks_c])"
   ]
  },
  {
   "cell_type": "code",
   "execution_count": 4,
   "metadata": {
    "collapsed": false
   },
   "outputs": [],
   "source": [
    "# load back the keras model\n",
    "model = load_model('./RNN_out/local2/model-50.h5')"
   ]
  },
  {
   "cell_type": "code",
   "execution_count": 13,
   "metadata": {
    "collapsed": false
   },
   "outputs": [],
   "source": [
    "# load a batch of validation data\n",
    "batch_size_jets = 62000\n",
    "batch_size_tracks = 202000\n",
    "read_pos_jets = 0\n",
    "read_pos_tracks = 0\n",
    "number_chunks = 0\n",
    "chunks_limit = 1"
   ]
  },
  {
   "cell_type": "code",
   "execution_count": 14,
   "metadata": {
    "collapsed": false
   },
   "outputs": [],
   "source": [
    "while number_chunks < chunks_limit:\n",
    "    number_chunks += 1\n",
    "    \n",
    "    # read in new chunk of jet and track data\n",
    "    d1 = pd.DataFrame(rnpy.root2array(\"/mnt/t3nfs01/data01/shome/jpata/btv/gc/TagVarExtractor/GCa08e5e237323/TT_TuneCUETP8M1_13TeV-powheg-pythia8/job_0_out.root\",\n",
    "                                 treename = \"tagVars/ttree\", start = read_pos_jets, stop = read_pos_jets + batch_size_jets))\n",
    "    d2 = pd.DataFrame(rnpy.root2array(\"/mnt/t3nfs01/data01/shome/jpata/btv/gc/TagVarExtractor/GCa08e5e237323/TT_TuneCUETP8M1_13TeV-powheg-pythia8/job_0_out.root\",\n",
    "                                 treename = \"tagVars/ttree_track\", start = read_pos_tracks, stop = read_pos_tracks + batch_size_tracks))\n",
    "    \n",
    "    # figure out where the next chunk should start so that we don't count any jets multiple times\n",
    "    last_tracks = (int)(d2.tail(1)['Track_jetIndex'].iloc[0]-1)\n",
    "    last_jet = (int)(d1.tail(1)['Jet_jetIndex'].iloc[0]-1)\n",
    "    \n",
    "    # find the latest jet index thatis fully contained in this chunk\n",
    "    while(len(d2.loc[d2['Track_jetIndex'] == last_tracks]) == 0):\n",
    "        last_tracks -= 1\n",
    "        \n",
    "    if last_tracks > last_jet:\n",
    "        print(\"Error: have more tracks than jets! Choose different chunk sizes!\")\n",
    "        \n",
    "    read_pos_jets += (d1.loc[d1['Jet_jetIndex'] == last_tracks].index[-1] + 1)\n",
    "    read_pos_tracks += (d2.loc[d2['Track_jetIndex'] == last_tracks].index[-1] + 1)\n",
    "\n",
    "    # add the track data to the jet list\n",
    "    d1['track_data'] = pd.np.empty((len(d1.index),0)).tolist()\n",
    "    \n",
    "    # iterate over the track list to join jets with the tracks belonging to them\n",
    "    for irow, row in d2.iterrows():\n",
    "        # these are the track data of the current track:\n",
    "        tracks = row[[\"Track_pt\", \"Track_eta\", \"Track_phi\", \"Track_dxy\", \"Track_dz\", \"Track_IP\", \"Track_IP2D\", \"Track_length\"]].as_matrix()\n",
    "        jet_index = int(row[\"Track_jetIndex\"])\n",
    "        if jet_index > last_tracks:\n",
    "            break\n",
    "        table_index = d1.loc[d1['Jet_jetIndex'] == jet_index].index[0]\n",
    "\n",
    "        # append the tracks data to the matching jet in the main table\n",
    "        d1['track_data'][table_index].append(tracks)\n",
    "    \n",
    "    # now divide the jets and put them in separate lists, according to their flavour\n",
    "    jets_b = []\n",
    "    jets_l = []\n",
    "    jets_c = []\n",
    "\n",
    "    # iterate over the jet list, with already matched tracks\n",
    "    for irow, row in d1.iterrows():\n",
    "        jet_index = int(row[\"Jet_jetIndex\"])\n",
    "        if jet_index > last_tracks:\n",
    "            break\n",
    "\n",
    "        flavour = int(row[\"Jet_flavour\"])\n",
    "\n",
    "        # select the right list this jet belongs to\n",
    "        if abs(flavour) == 5:\n",
    "            jets = jets_b\n",
    "        elif abs(flavour) == 4:\n",
    "            jets = jets_c\n",
    "        else:\n",
    "            jets = jets_l\n",
    "\n",
    "        # add the new jet to the list, if it contains tracks\n",
    "        if len(row[\"track_data\"]) > 0:\n",
    "            jets += [(row[\"Jet_pt\"], row[\"Jet_eta\"], row[\"Jet_phi\"], row[\"Jet_mass\"], flavour, row[\"track_data\"])]\n",
    "        \n",
    "    # now, have sorted jets in three lists, can use them directly for training!"
   ]
  },
  {
   "cell_type": "code",
   "execution_count": 15,
   "metadata": {
    "collapsed": false
   },
   "outputs": [],
   "source": [
    "max_tracks = get_max_tracks(jets_b, jets_c, jets_l)"
   ]
  },
  {
   "cell_type": "code",
   "execution_count": 16,
   "metadata": {
    "collapsed": false
   },
   "outputs": [],
   "source": [
    "x_validation_b, _, batch_size_b = prepare_training_data(jets_b, 1, max_tracks)\n",
    "x_validation_c, _, batch_size_c = prepare_training_data(jets_c, 0, max_tracks)\n",
    "x_validation_l, _, batch_size_l = prepare_training_data(jets_l, 0, max_tracks)"
   ]
  },
  {
   "cell_type": "code",
   "execution_count": 17,
   "metadata": {
    "collapsed": false
   },
   "outputs": [],
   "source": [
    "# get the model's response and sort it into b and non-b\n",
    "response_b = model.predict(x_validation_b, batch_size = batch_size_b)\n",
    "response_c = model.predict(x_validation_c, batch_size = batch_size_c)\n",
    "response_l = model.predict(x_validation_l, batch_size = batch_size_l)\n",
    "response_nb = np.vstack([response_c, response_l])"
   ]
  },
  {
   "cell_type": "code",
   "execution_count": 18,
   "metadata": {
    "collapsed": false
   },
   "outputs": [],
   "source": [
    "# produce the ROC plot and save it so that it can be combined with the others\n",
    "efficiency = np.array([])\n",
    "misid_prob = np.array([])\n",
    "\n",
    "# find the optimal threshold values for the plotting\n",
    "minval = np.min(np.concatenate([response_nb, response_b]))\n",
    "maxval = np.max(np.concatenate([response_nb, response_b]))\n",
    "for threshold in np.arange(minval, maxval, (maxval - minval) / 1000):\n",
    "    correct_b = (response_b >= threshold).sum()\n",
    "    misid_b = (response_nb >= threshold).sum()\n",
    "    \n",
    "    if(correct_b > 1 and misid_b > 1):\n",
    "        efficiency = np.append(efficiency, correct_b / len(response_b))\n",
    "        misid_prob = np.append(misid_prob, misid_b / len(response_nb))"
   ]
  },
  {
   "cell_type": "code",
   "execution_count": 19,
   "metadata": {
    "collapsed": false
   },
   "outputs": [
    {
     "data": {
      "image/png": "[encoded data removed]",
      "text/plain": [
       "<matplotlib.figure.Figure at 0x7f0c1cd03710>"
      ]
     },
     "metadata": {},
     "output_type": "display_data"
    }
   ],
   "source": [
    "fig = plt.figure(figsize=(10,6))\n",
    "plt.plot(efficiency, misid_prob)\n",
    "plt.yscale('log')\n",
    "axes = plt.gca()\n",
    "axes.set_ylim([1e-2,1])\n",
    "plt.xlabel('b jet efficiency')\n",
    "plt.ylabel('misidentification prob.')\n",
    "plt.show()"
   ]
  },
  {
   "cell_type": "code",
   "execution_count": 20,
   "metadata": {
    "collapsed": false
   },
   "outputs": [],
   "source": [
    "# can now plot the curve and save the values to a file\n",
    "plotdata = np.vstack([misid_prob, efficiency])\n",
    "np.save('./RNN_out/local2/RNN_ROC-50', plotdata)"
   ]
  },
  {
   "cell_type": "code",
   "execution_count": null,
   "metadata": {
    "collapsed": true
   },
   "outputs": [],
   "source": []
  }
 ],
 "metadata": {
  "anaconda-cloud": {},
  "kernelspec": {
   "display_name": "Python [conda root]",
   "language": "python",
   "name": "conda-root-py"
  },
  "language_info": {
   "codemirror_mode": {
    "name": "ipython",
    "version": 2
   },
   "file_extension": ".py",
   "mimetype": "text/x-python",
   "name": "python",
   "nbconvert_exporter": "python",
   "pygments_lexer": "ipython2",
   "version": "2.7.12"
  }
 },
 "nbformat": 4,
 "nbformat_minor": 1
}
