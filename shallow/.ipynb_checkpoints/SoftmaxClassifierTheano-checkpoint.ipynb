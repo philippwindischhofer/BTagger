{
 "cells": [
  {
   "cell_type": "code",
   "execution_count": 1,
   "metadata": {
    "collapsed": false
   },
   "outputs": [
    {
     "name": "stderr",
     "output_type": "stream",
     "text": [
      "Using Theano backend.\n"
     ]
    }
   ],
   "source": [
    "from __future__ import division\n",
    "from keras.models import Sequential\n",
    "from keras.layers import Dense, Activation\n",
    "from keras.callbacks import EarlyStopping\n",
    "import numpy as np\n",
    "import pandas as pd\n",
    "import matplotlib.pyplot as plt"
   ]
  },
  {
   "cell_type": "code",
   "execution_count": 2,
   "metadata": {
    "collapsed": false
   },
   "outputs": [],
   "source": [
    "# start loading the data:\n",
    "TRAINING_DATASET = \"/shome/phwindis/data/training_data.csv\"\n",
    "VALIDATION_DATASET = \"/shome/phwindis/data/validation_data.csv\"\n",
    "raw_data = pd.read_csv(TRAINING_DATASET, names = ['Jet_CSV', 'Jet_CSVIVF', 'Jet_JP', 'Jet_JBP','Jet_cMVA', 'Jet_flavour_class'])\n",
    "raw_data_validation = pd.read_csv(VALIDATION_DATASET, names = ['Jet_CSV', 'Jet_CSVIVF', 'Jet_JP', 'Jet_JBP','Jet_cMVA', 'Jet_flavour_class'])"
   ]
  },
  {
   "cell_type": "code",
   "execution_count": 3,
   "metadata": {
    "collapsed": false
   },
   "outputs": [],
   "source": [
    "# get only the feature columns\n",
    "training_in = raw_data.loc[:,['Jet_CSV', 'Jet_CSVIVF', 'Jet_JP', 'Jet_JBP']].copy()\n",
    "validation_in = raw_data_validation.loc[:,['Jet_CSV', 'Jet_CSVIVF', 'Jet_JP', 'Jet_JBP']].copy()"
   ]
  },
  {
   "cell_type": "code",
   "execution_count": 4,
   "metadata": {
    "collapsed": false
   },
   "outputs": [],
   "source": [
    "cols = ['light', 'charm', 'bhad', 'gluon']\n",
    "training_out = pd.DataFrame(0, index = np.arange(0, len(raw_data.index)), columns = cols)\n",
    "validation_out = pd.DataFrame(0, index = np.arange(0, len(raw_data_validation.index)), columns = cols)"
   ]
  },
  {
   "cell_type": "code",
   "execution_count": 8,
   "metadata": {
    "collapsed": true
   },
   "outputs": [],
   "source": [
    "def makeOneHot(data_out, data_in):\n",
    "    data_out.loc[data_in['Jet_flavour_class'] == 0, 'light'] = 1\n",
    "    data_out.loc[data_in['Jet_flavour_class'] == 1, 'charm'] = 1\n",
    "    data_out.loc[data_in['Jet_flavour_class'] == 2, 'bhad'] = 1\n",
    "    data_out.loc[data_in['Jet_flavour_class'] == 3, 'gluon'] = 1"
   ]
  },
  {
   "cell_type": "code",
   "execution_count": 12,
   "metadata": {
    "collapsed": false
   },
   "outputs": [],
   "source": [
    "makeOneHot(training_out, raw_data)\n",
    "makeOneHot(validation_out, raw_data_validation)"
   ]
  },
  {
   "cell_type": "code",
   "execution_count": null,
   "metadata": {
    "collapsed": true
   },
   "outputs": [],
   "source": [
    "# build here the keras model (4 inputs, 4 outputs)\n",
    "def simple_classifier():\n",
    "    model = Sequential()\n",
    "    model.add(Dense(14, input_dim = 4, init = 'normal', activation = 'relu'))\n",
    "    model.add(Dense(4, init = 'normal', activation = 'softmax'))\n",
    "    model.compile(loss = 'categorical_crossentropy', optimizer = 'adam', metrics = ['accuracy'])\n",
    "    return model"
   ]
  },
  {
   "cell_type": "code",
   "execution_count": null,
   "metadata": {
    "collapsed": false
   },
   "outputs": [],
   "source": [
    "model = simple_classifier()"
   ]
  },
  {
   "cell_type": "code",
   "execution_count": null,
   "metadata": {
    "collapsed": true
   },
   "outputs": [],
   "source": [
    "early_stop = EarlyStopping(monitor = 'val_loss', patience = 10, verbose = 0, mode = 'auto')"
   ]
  },
  {
   "cell_type": "code",
   "execution_count": null,
   "metadata": {
    "collapsed": false
   },
   "outputs": [],
   "source": [
    "model.fit(training_in.as_matrix(), training_out.as_matrix(), nb_epoch = 10, batch_size = 10, validation_data=(validation_in.as_matrix(), validation_out.as_matrix()), callbacks = [early_stop])"
   ]
  },
  {
   "cell_type": "code",
   "execution_count": null,
   "metadata": {
    "collapsed": true
   },
   "outputs": [],
   "source": [
    "# save the trained model:\n",
    "model.save('model.h5')"
   ]
  },
  {
   "cell_type": "code",
   "execution_count": null,
   "metadata": {
    "collapsed": true
   },
   "outputs": [],
   "source": [
    "classifier_out = model.predict(validation_in.as_matrix(), batch_size = 32)"
   ]
  },
  {
   "cell_type": "code",
   "execution_count": null,
   "metadata": {
    "collapsed": false
   },
   "outputs": [],
   "source": [
    "raw_data_validation['NN_classifier'] = classifier_out[:,2]"
   ]
  },
  {
   "cell_type": "code",
   "execution_count": null,
   "metadata": {
    "collapsed": true
   },
   "outputs": [],
   "source": [
    "raw_data_validation['random_classifier'] = np.random.rand(len(raw_data.index))"
   ]
  },
  {
   "cell_type": "code",
   "execution_count": null,
   "metadata": {
    "collapsed": false
   },
   "outputs": [],
   "source": [
    "jet_algorithms = [\"Jet_CSV\", \"Jet_CSVIVF\", \"Jet_JP\", \"random_classifier\",\"Jet_cMVA\", \"NN_classifier\"]\n",
    "# plot the ROC curves\n",
    "fig = plt.figure(figsize=(10,6))\n",
    "\n",
    "b_jets = raw_data_validation.loc[raw_data_validation['Jet_flavour_class'] == 2]\n",
    "non_b_jets = raw_data_validation.loc[(raw_data_validation['Jet_flavour_class'] != 2)]\n",
    "\n",
    "for algorithm in jet_algorithms:\n",
    "    efficiency = np.array([])\n",
    "    misid_prob = np.array([])\n",
    "    \n",
    "    minval = np.min(raw_data_validation[algorithm])\n",
    "    maxval = np.max(raw_data_validation[algorithm])\n",
    "    for threshold in np.arange(minval, maxval, (maxval - minval) / 300):    \n",
    "        correct_b = b_jets.loc[b_jets[algorithm] >= threshold]\n",
    "        misid_b = non_b_jets.loc[non_b_jets[algorithm] >= threshold]\n",
    "        \n",
    "        if(len(correct_b) > 1 and len(misid_b) > 1):\n",
    "            efficiency = np.append(efficiency, len(correct_b) / len(b_jets))\n",
    "            misid_prob = np.append(misid_prob, len(misid_b) / len(non_b_jets))\n",
    "    plt.yscale('log')\n",
    "    plt.plot(efficiency, misid_prob, label = algorithm)\n",
    "axes = plt.gca()\n",
    "axes.set_ylim([1e-2,1])\n",
    "plt.legend(bbox_to_anchor=(1.05, 1), loc=2, borderaxespad=0.)\n",
    "plt.xlabel('b jet efficiency')\n",
    "plt.ylabel('misidentification prob.')\n",
    "plt.show()"
   ]
  },
  {
   "cell_type": "code",
   "execution_count": null,
   "metadata": {
    "collapsed": true
   },
   "outputs": [],
   "source": []
  }
 ],
 "metadata": {
  "anaconda-cloud": {},
  "kernelspec": {
   "display_name": "Python [default]",
   "language": "python",
   "name": "python2"
  },
  "language_info": {
   "codemirror_mode": {
    "name": "ipython",
    "version": 2
   },
   "file_extension": ".py",
   "mimetype": "text/x-python",
   "name": "python",
   "nbconvert_exporter": "python",
   "pygments_lexer": "ipython2",
   "version": "2.7.12"
  }
 },
 "nbformat": 4,
 "nbformat_minor": 1
}
