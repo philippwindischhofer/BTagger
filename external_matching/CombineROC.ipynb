{
 "cells": [
  {
   "cell_type": "code",
   "execution_count": 1,
   "metadata": {
    "collapsed": true
   },
   "outputs": [],
   "source": [
    "from __future__ import division\n",
    "import numpy as np\n",
    "import matplotlib.pyplot as plt\n",
    "%matplotlib inline"
   ]
  },
  {
   "cell_type": "code",
   "execution_count": 2,
   "metadata": {
    "collapsed": true
   },
   "outputs": [],
   "source": [
    "def plot_combined(pathlist, labellist):\n",
    "    fig = plt.figure(figsize=(10,6))\n",
    "    for curfile, curlabel in zip(pathlist, labellist):\n",
    "        cur = np.load(curfile)\n",
    "        plt.plot(cur[1,:], cur[0,:], label = curlabel)\n",
    "    plt.yscale('log')\n",
    "    axes = plt.gca()\n",
    "    axes.set_ylim([1e-2,1])\n",
    "    plt.legend(loc = \"upper left\")\n",
    "    plt.xlabel('b jet efficiency')\n",
    "    plt.ylabel('misidentification prob.')\n",
    "    plt.close()\n",
    "    return fig"
   ]
  },
  {
   "cell_type": "code",
   "execution_count": 3,
   "metadata": {
    "collapsed": false
   },
   "outputs": [],
   "source": [
    "comb = plot_combined((\"../RNN_out_external_matching/LSTM32_1layer/ROC-rocdata_rnn.npy\",\n",
    "             \"../RNN_out_external_matching/LSTM32_1layer/ROC-rocdata_cmva.npy\"), (\"a\",\"b\"))"
   ]
  },
  {
   "cell_type": "code",
   "execution_count": 4,
   "metadata": {
    "collapsed": false
   },
   "outputs": [],
   "source": [
    "comb.savefig(\"..test.pdf\")"
   ]
  },
  {
   "cell_type": "code",
   "execution_count": null,
   "metadata": {
    "collapsed": true
   },
   "outputs": [],
   "source": []
  }
 ],
 "metadata": {
  "anaconda-cloud": {},
  "kernelspec": {
   "display_name": "Python [conda root]",
   "language": "python",
   "name": "conda-root-py"
  },
  "language_info": {
   "codemirror_mode": {
    "name": "ipython",
    "version": 2
   },
   "file_extension": ".py",
   "mimetype": "text/x-python",
   "name": "python",
   "nbconvert_exporter": "python",
   "pygments_lexer": "ipython2",
   "version": "2.7.12"
  }
 },
 "nbformat": 4,
 "nbformat_minor": 1
}
