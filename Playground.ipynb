{
 "cells": [
  {
   "cell_type": "code",
   "execution_count": 1,
   "metadata": {
    "collapsed": false
   },
   "outputs": [
    {
     "data": {
      "application/javascript": [
       "require(['codemirror/mode/clike/clike'], function(Clike) { console.log('ROOTaaS - C++ CodeMirror module loaded'); });"
      ]
     },
     "metadata": {},
     "output_type": "display_data"
    },
    {
     "data": {
      "application/javascript": [
       "IPython.CodeCell.config_defaults.highlight_modes['magic_text/x-c++src'] = {'reg':[/^%%cpp/]};"
      ]
     },
     "metadata": {},
     "output_type": "display_data"
    },
    {
     "name": "stdout",
     "output_type": "stream",
     "text": [
      "Welcome to ROOTaaS 6.06/08\n"
     ]
    }
   ],
   "source": [
    "import ROOT\n",
    "import root_numpy as rnpy\n",
    "import pandas as pd\n",
    "import numpy as np\n",
    "%matplotlib inline\n",
    "import matplotlib.pyplot as plt\n",
    "import seaborn"
   ]
  },
  {
   "cell_type": "code",
   "execution_count": 2,
   "metadata": {
    "collapsed": false
   },
   "outputs": [],
   "source": [
    "d1 = pd.DataFrame(rnpy.root2array(\"/mnt/t3nfs01/data01/shome/jpata/btv/gc/TagVarExtractor/GCa08e5e237323/TT_TuneCUETP8M1_13TeV-powheg-pythia8/job_0_out.root\",\n",
    "                                 treename = \"tagVars/ttree\")\n",
    "                 )"
   ]
  },
  {
   "cell_type": "code",
   "execution_count": 3,
   "metadata": {
    "collapsed": false
   },
   "outputs": [
    {
     "name": "stderr",
     "output_type": "stream",
     "text": [
      "/swshare/anaconda/lib/python2.7/site-packages/root_numpy/_tree.py:209: RuntimeWarning: ignoring duplicate branch named 'Track_nHitPixel'\n",
      "  warn_missing_tree)\n"
     ]
    }
   ],
   "source": [
    "d2 = pd.DataFrame(rnpy.root2array(\"/mnt/t3nfs01/data01/shome/jpata/btv/gc/TagVarExtractor/GCa08e5e237323/TT_TuneCUETP8M1_13TeV-powheg-pythia8/job_0_out.root\",\n",
    "                                 treename = \"tagVars/ttree_track\"))"
   ]
  },
  {
   "cell_type": "code",
   "execution_count": 5,
   "metadata": {
    "collapsed": false
   },
   "outputs": [],
   "source": [
    "jets_b = []\n",
    "jets_l = []\n",
    "jets_c = []\n",
    "\n",
    "# iterate over the jet list\n",
    "for irow, row in d1.iterrows():\n",
    "    jetIndex = int(row.Jet_jetIndex)\n",
    "    flavour = int(row[\"Jet_flavour\"])\n",
    "    \n",
    "    # scan the track list to extract the tracks belonging to this jet\n",
    "    sel = d2[\"Track_jetIndex\"] == jetIndex\n",
    "    \n",
    "    if abs(flavour) == 5:\n",
    "        jets = jets_b\n",
    "    elif abs(flavour) == 4:\n",
    "        jets = jets_c\n",
    "    else:\n",
    "        jets = jets_l\n",
    "        \n",
    "    #create jet tuple\n",
    "    jets += [(\n",
    "        (row[\"Jet_pt\"], row[\"Jet_eta\"], row[\"Jet_phi\"], row[\"Jet_mass\"]),\n",
    "        int(row[\"Jet_flavour\"]),\n",
    "        d2[sel][[\"Track_pt\", \"Track_eta\", \"Track_phi\", \"Track_dxy\", \"Track_dz\", \"Track_IP\", \"Track_IP2D\", \"Track_length\"]].as_matrix()\n",
    "    )]\n",
    "    if irow >= 50000:\n",
    "        break"
   ]
  },
  {
   "cell_type": "code",
   "execution_count": 29,
   "metadata": {
    "collapsed": false
   },
   "outputs": [
    {
     "data": {
      "text/plain": [
       "array([[  3.90625000e+00,   9.05117929e-01,  -8.08425605e-01,\n",
       "         -3.09375003e-02,  -8.10937509e-02,   6.43086731e-02,\n",
       "          3.09375040e-02,   3.26143235e-01],\n",
       "       [  1.36230469e+00,   6.89413130e-01,  -1.02835882e+00,\n",
       "          1.60546880e-02,  -2.72216188e-04,   1.60561614e-02,\n",
       "          1.60546862e-02,   2.08897203e-01],\n",
       "       [  2.15039062e+00,   6.20014012e-01,  -1.13841820e+00,\n",
       "          2.89373063e-02,   8.33480246e-03,   2.97615770e-02,\n",
       "          2.89373696e-02,   1.71388343e-01],\n",
       "       [  5.20703125e+00,   5.87786496e-01,  -1.14466190e+00,\n",
       "          2.43558865e-02,   2.48010978e-02,   3.21964398e-02,\n",
       "          2.43558735e-02,   1.67140812e-01],\n",
       "       [  0.00000000e+00,   0.00000000e+00,   0.00000000e+00,\n",
       "          1.00000000e+00,   2.00000000e+00,   3.00000000e+00,\n",
       "          4.00000000e+00,   5.00000000e+00]])"
      ]
     },
     "execution_count": 29,
     "metadata": {},
     "output_type": "execute_result"
    }
   ],
   "source": [
    "np.append(jets_b[1][2],[[0,0,0,1,2,3,4,5]], axis = 0)"
   ]
  },
  {
   "cell_type": "code",
   "execution_count": 23,
   "metadata": {
    "collapsed": false
   },
   "outputs": [
    {
     "data": {
      "text/plain": [
       "array([  1.36230469e+00,   6.89413130e-01,  -1.02835882e+00,\n",
       "         1.60546880e-02,  -2.72216188e-04,   1.60561614e-02,\n",
       "         1.60546862e-02,   2.08897203e-01], dtype=float32)"
      ]
     },
     "execution_count": 23,
     "metadata": {},
     "output_type": "execute_result"
    }
   ],
   "source": [
    "jets_b[1][2][1]"
   ]
  },
  {
   "cell_type": "code",
   "execution_count": null,
   "metadata": {
    "collapsed": true
   },
   "outputs": [],
   "source": [
    "# quicker way to do the partitioning: iterate though the jet tracks list,\n",
    "# append each track and its parameters to the jet it belongs to (all jets in one big frame)\n",
    "# at the end, divide the jets into their types, according to their jetIndex"
   ]
  }
 ],
 "metadata": {
  "anaconda-cloud": {},
  "kernelspec": {
   "display_name": "Python [conda root]",
   "language": "python",
   "name": "conda-root-py"
  },
  "language_info": {
   "codemirror_mode": {
    "name": "ipython",
    "version": 2
   },
   "file_extension": ".py",
   "mimetype": "text/x-python",
   "name": "python",
   "nbconvert_exporter": "python",
   "pygments_lexer": "ipython2",
   "version": "2.7.12"
  }
 },
 "nbformat": 4,
 "nbformat_minor": 1
}
