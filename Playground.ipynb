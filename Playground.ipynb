{
 "cells": [
  {
   "cell_type": "code",
   "execution_count": 1,
   "metadata": {
    "collapsed": false
   },
   "outputs": [
    {
     "data": {
      "application/javascript": [
       "require(['codemirror/mode/clike/clike'], function(Clike) { console.log('ROOTaaS - C++ CodeMirror module loaded'); });"
      ]
     },
     "metadata": {},
     "output_type": "display_data"
    },
    {
     "data": {
      "application/javascript": [
       "IPython.CodeCell.config_defaults.highlight_modes['magic_text/x-c++src'] = {'reg':[/^%%cpp/]};"
      ]
     },
     "metadata": {},
     "output_type": "display_data"
    },
    {
     "name": "stdout",
     "output_type": "stream",
     "text": [
      "Welcome to ROOTaaS 6.06/08\n"
     ]
    }
   ],
   "source": [
    "import ROOT\n",
    "import root_numpy as rnpy\n",
    "import pandas as pd\n",
    "import numpy as np\n",
    "%matplotlib inline\n",
    "import matplotlib.pyplot as plt\n",
    "import seaborn\n",
    "import pickle"
   ]
  },
  {
   "cell_type": "code",
   "execution_count": 2,
   "metadata": {
    "collapsed": true
   },
   "outputs": [],
   "source": [
    "import tables"
   ]
  },
  {
   "cell_type": "code",
   "execution_count": 21,
   "metadata": {
    "collapsed": true
   },
   "outputs": [],
   "source": [
    "test = 0"
   ]
  },
  {
   "cell_type": "code",
   "execution_count": 24,
   "metadata": {
    "collapsed": false
   },
   "outputs": [],
   "source": [
    "d1 = pd.DataFrame(rnpy.root2array(\"/mnt/t3nfs01/data01/shome/jpata/btv/gc/TagVarExtractor/GCa08e5e237323/TT_TuneCUETP8M1_13TeV-powheg-pythia8/job_0_out.root\",\n",
    "                                 treename = \"tagVars/ttree\", start = 20, stop = 25))"
   ]
  },
  {
   "cell_type": "code",
   "execution_count": 19,
   "metadata": {
    "collapsed": false
   },
   "outputs": [
    {
     "name": "stderr",
     "output_type": "stream",
     "text": [
      "/swshare/anaconda/lib/python2.7/site-packages/root_numpy/_tree.py:209: RuntimeWarning: ignoring duplicate branch named 'Track_nHitPixel'\n",
      "  warn_missing_tree)\n"
     ]
    }
   ],
   "source": [
    "d2 = pd.DataFrame(rnpy.root2array(\"/mnt/t3nfs01/data01/shome/jpata/btv/gc/TagVarExtractor/GCa08e5e237323/TT_TuneCUETP8M1_13TeV-powheg-pythia8/job_0_out.root\",\n",
    "                                 treename = \"tagVars/ttree_track\", start = 10, stop = 20))"
   ]
  },
  {
   "cell_type": "code",
   "execution_count": 4,
   "metadata": {
    "collapsed": false
   },
   "outputs": [],
   "source": [
    "last = (int)(d1.tail(1).iloc[0]['Jet_jetIndex'])-1"
   ]
  },
  {
   "cell_type": "code",
   "execution_count": 3,
   "metadata": {
    "collapsed": false
   },
   "outputs": [],
   "source": [
    "d1['track_data'] = pd.np.empty((len(d1.index), 0)).tolist()"
   ]
  },
  {
   "cell_type": "code",
   "execution_count": 32,
   "metadata": {
    "collapsed": false
   },
   "outputs": [
    {
     "data": {
      "text/plain": [
       "24"
      ]
     },
     "execution_count": 32,
     "metadata": {},
     "output_type": "execute_result"
    }
   ],
   "source": [
    "d1.tail(1)['Jet_jetIndex'].iloc[0]"
   ]
  },
  {
   "cell_type": "code",
   "execution_count": 17,
   "metadata": {
    "collapsed": false
   },
   "outputs": [],
   "source": [
    "last += d1.loc[d1['Jet_jetIndex'] == 14].index[0]"
   ]
  },
  {
   "cell_type": "code",
   "execution_count": 21,
   "metadata": {
    "collapsed": false
   },
   "outputs": [
    {
     "data": {
      "text/plain": [
       "0    1\n",
       "1    1\n",
       "2    1\n",
       "3    2\n",
       "4    2\n",
       "5    2\n",
       "6    2\n",
       "7    2\n",
       "8    2\n",
       "9    3\n",
       "Name: Track_jetIndex, dtype: uint64"
      ]
     },
     "execution_count": 21,
     "metadata": {},
     "output_type": "execute_result"
    }
   ],
   "source": [
    "d2['Track_jetIndex']"
   ]
  },
  {
   "cell_type": "code",
   "execution_count": null,
   "metadata": {
    "collapsed": true
   },
   "outputs": [],
   "source": []
  },
  {
   "cell_type": "code",
   "execution_count": 94,
   "metadata": {
    "collapsed": false
   },
   "outputs": [],
   "source": [
    "ff=d1.loc[d1['Jet_jetIndex'] <= 8].tail(1).index[0]"
   ]
  },
  {
   "cell_type": "code",
   "execution_count": 101,
   "metadata": {
    "collapsed": false
   },
   "outputs": [
    {
     "data": {
      "text/html": [
       "<div>\n",
       "<table border=\"1\" class=\"dataframe\">\n",
       "  <thead>\n",
       "    <tr style=\"text-align: right;\">\n",
       "      <th></th>\n",
       "      <th>Jet_jetIndex</th>\n",
       "      <th>Jet_pt</th>\n",
       "      <th>Jet_genpt</th>\n",
       "      <th>Jet_eta</th>\n",
       "      <th>Jet_phi</th>\n",
       "      <th>Jet_mass</th>\n",
       "      <th>Jet_flavour</th>\n",
       "      <th>Jet_nbHadrons</th>\n",
       "      <th>Jet_JP</th>\n",
       "      <th>Jet_JBP</th>\n",
       "      <th>...</th>\n",
       "      <th>TagVarCSV_trackJetDist_2</th>\n",
       "      <th>TagVarCSV_trackJetDist_3</th>\n",
       "      <th>TagVarCSV_trackDecayLenVal_0</th>\n",
       "      <th>TagVarCSV_trackDecayLenVal_1</th>\n",
       "      <th>TagVarCSV_trackDecayLenVal_2</th>\n",
       "      <th>TagVarCSV_trackDecayLenVal_3</th>\n",
       "      <th>TagVarCSV_trackEtaRel_0</th>\n",
       "      <th>TagVarCSV_trackEtaRel_1</th>\n",
       "      <th>TagVarCSV_trackEtaRel_2</th>\n",
       "      <th>TagVarCSV_trackEtaRel_3</th>\n",
       "    </tr>\n",
       "  </thead>\n",
       "  <tbody>\n",
       "    <tr>\n",
       "      <th>0</th>\n",
       "      <td>10</td>\n",
       "      <td>33.794209</td>\n",
       "      <td>42.376511</td>\n",
       "      <td>0.646752</td>\n",
       "      <td>2.916097</td>\n",
       "      <td>4.635757</td>\n",
       "      <td>21.0</td>\n",
       "      <td>0.0</td>\n",
       "      <td>0.539976</td>\n",
       "      <td>2.172424</td>\n",
       "      <td>...</td>\n",
       "      <td>-0.007213</td>\n",
       "      <td>-99.000000</td>\n",
       "      <td>0.005284</td>\n",
       "      <td>0.062314</td>\n",
       "      <td>0.033209</td>\n",
       "      <td>-99.000000</td>\n",
       "      <td>-99.000000</td>\n",
       "      <td>-99.000000</td>\n",
       "      <td>-99.000000</td>\n",
       "      <td>-99.0</td>\n",
       "    </tr>\n",
       "    <tr>\n",
       "      <th>1</th>\n",
       "      <td>11</td>\n",
       "      <td>29.634102</td>\n",
       "      <td>27.482023</td>\n",
       "      <td>-1.092201</td>\n",
       "      <td>-1.847709</td>\n",
       "      <td>5.526241</td>\n",
       "      <td>1.0</td>\n",
       "      <td>0.0</td>\n",
       "      <td>-0.000000</td>\n",
       "      <td>0.143045</td>\n",
       "      <td>...</td>\n",
       "      <td>-0.003478</td>\n",
       "      <td>-0.000484</td>\n",
       "      <td>0.010517</td>\n",
       "      <td>0.049016</td>\n",
       "      <td>0.031393</td>\n",
       "      <td>0.192932</td>\n",
       "      <td>-99.000000</td>\n",
       "      <td>-99.000000</td>\n",
       "      <td>-99.000000</td>\n",
       "      <td>-99.0</td>\n",
       "    </tr>\n",
       "    <tr>\n",
       "      <th>2</th>\n",
       "      <td>12</td>\n",
       "      <td>22.369608</td>\n",
       "      <td>21.959921</td>\n",
       "      <td>-0.013586</td>\n",
       "      <td>2.285115</td>\n",
       "      <td>4.104486</td>\n",
       "      <td>-3.0</td>\n",
       "      <td>0.0</td>\n",
       "      <td>0.015850</td>\n",
       "      <td>0.167393</td>\n",
       "      <td>...</td>\n",
       "      <td>-0.000455</td>\n",
       "      <td>-0.001004</td>\n",
       "      <td>0.028289</td>\n",
       "      <td>0.025825</td>\n",
       "      <td>0.331407</td>\n",
       "      <td>0.210251</td>\n",
       "      <td>-99.000000</td>\n",
       "      <td>-99.000000</td>\n",
       "      <td>-99.000000</td>\n",
       "      <td>-99.0</td>\n",
       "    </tr>\n",
       "    <tr>\n",
       "      <th>3</th>\n",
       "      <td>13</td>\n",
       "      <td>20.984880</td>\n",
       "      <td>23.567837</td>\n",
       "      <td>-0.216252</td>\n",
       "      <td>0.612154</td>\n",
       "      <td>3.245879</td>\n",
       "      <td>-2.0</td>\n",
       "      <td>0.0</td>\n",
       "      <td>0.052282</td>\n",
       "      <td>0.381455</td>\n",
       "      <td>...</td>\n",
       "      <td>-0.000639</td>\n",
       "      <td>-99.000000</td>\n",
       "      <td>0.013558</td>\n",
       "      <td>0.092695</td>\n",
       "      <td>0.047280</td>\n",
       "      <td>-99.000000</td>\n",
       "      <td>-99.000000</td>\n",
       "      <td>-99.000000</td>\n",
       "      <td>-99.000000</td>\n",
       "      <td>-99.0</td>\n",
       "    </tr>\n",
       "    <tr>\n",
       "      <th>4</th>\n",
       "      <td>14</td>\n",
       "      <td>111.533165</td>\n",
       "      <td>106.700966</td>\n",
       "      <td>-1.242061</td>\n",
       "      <td>0.656113</td>\n",
       "      <td>11.278137</td>\n",
       "      <td>-3.0</td>\n",
       "      <td>0.0</td>\n",
       "      <td>-0.000000</td>\n",
       "      <td>0.247685</td>\n",
       "      <td>...</td>\n",
       "      <td>-0.000988</td>\n",
       "      <td>-0.000165</td>\n",
       "      <td>0.206171</td>\n",
       "      <td>0.008384</td>\n",
       "      <td>0.586856</td>\n",
       "      <td>0.497479</td>\n",
       "      <td>-99.000000</td>\n",
       "      <td>-99.000000</td>\n",
       "      <td>-99.000000</td>\n",
       "      <td>-99.0</td>\n",
       "    </tr>\n",
       "    <tr>\n",
       "      <th>5</th>\n",
       "      <td>15</td>\n",
       "      <td>78.682678</td>\n",
       "      <td>90.928658</td>\n",
       "      <td>-0.541593</td>\n",
       "      <td>2.855596</td>\n",
       "      <td>13.586503</td>\n",
       "      <td>-5.0</td>\n",
       "      <td>1.0</td>\n",
       "      <td>0.064958</td>\n",
       "      <td>0.039352</td>\n",
       "      <td>...</td>\n",
       "      <td>-99.000000</td>\n",
       "      <td>-99.000000</td>\n",
       "      <td>0.057338</td>\n",
       "      <td>-99.000000</td>\n",
       "      <td>-99.000000</td>\n",
       "      <td>-99.000000</td>\n",
       "      <td>-99.000000</td>\n",
       "      <td>-99.000000</td>\n",
       "      <td>-99.000000</td>\n",
       "      <td>-99.0</td>\n",
       "    </tr>\n",
       "    <tr>\n",
       "      <th>6</th>\n",
       "      <td>16</td>\n",
       "      <td>62.927746</td>\n",
       "      <td>54.594231</td>\n",
       "      <td>1.047810</td>\n",
       "      <td>-1.411328</td>\n",
       "      <td>12.042562</td>\n",
       "      <td>3.0</td>\n",
       "      <td>0.0</td>\n",
       "      <td>0.070321</td>\n",
       "      <td>0.436179</td>\n",
       "      <td>...</td>\n",
       "      <td>-0.006756</td>\n",
       "      <td>-0.002800</td>\n",
       "      <td>0.079472</td>\n",
       "      <td>0.017019</td>\n",
       "      <td>0.015619</td>\n",
       "      <td>0.093106</td>\n",
       "      <td>-99.000000</td>\n",
       "      <td>-99.000000</td>\n",
       "      <td>-99.000000</td>\n",
       "      <td>-99.0</td>\n",
       "    </tr>\n",
       "    <tr>\n",
       "      <th>7</th>\n",
       "      <td>17</td>\n",
       "      <td>46.742874</td>\n",
       "      <td>40.937336</td>\n",
       "      <td>-1.313937</td>\n",
       "      <td>2.646595</td>\n",
       "      <td>7.587672</td>\n",
       "      <td>5.0</td>\n",
       "      <td>1.0</td>\n",
       "      <td>0.722135</td>\n",
       "      <td>3.325557</td>\n",
       "      <td>...</td>\n",
       "      <td>-99.000000</td>\n",
       "      <td>-99.000000</td>\n",
       "      <td>0.574685</td>\n",
       "      <td>0.588342</td>\n",
       "      <td>-99.000000</td>\n",
       "      <td>-99.000000</td>\n",
       "      <td>3.768583</td>\n",
       "      <td>4.102428</td>\n",
       "      <td>3.395831</td>\n",
       "      <td>-99.0</td>\n",
       "    </tr>\n",
       "    <tr>\n",
       "      <th>8</th>\n",
       "      <td>18</td>\n",
       "      <td>29.707779</td>\n",
       "      <td>25.386944</td>\n",
       "      <td>-0.328662</td>\n",
       "      <td>-1.071120</td>\n",
       "      <td>6.868381</td>\n",
       "      <td>4.0</td>\n",
       "      <td>0.0</td>\n",
       "      <td>-0.000000</td>\n",
       "      <td>0.077006</td>\n",
       "      <td>...</td>\n",
       "      <td>-99.000000</td>\n",
       "      <td>-99.000000</td>\n",
       "      <td>0.077510</td>\n",
       "      <td>-99.000000</td>\n",
       "      <td>-99.000000</td>\n",
       "      <td>-99.000000</td>\n",
       "      <td>-99.000000</td>\n",
       "      <td>-99.000000</td>\n",
       "      <td>-99.000000</td>\n",
       "      <td>-99.0</td>\n",
       "    </tr>\n",
       "    <tr>\n",
       "      <th>9</th>\n",
       "      <td>19</td>\n",
       "      <td>105.522942</td>\n",
       "      <td>100.921181</td>\n",
       "      <td>-0.572873</td>\n",
       "      <td>1.737130</td>\n",
       "      <td>8.502139</td>\n",
       "      <td>-5.0</td>\n",
       "      <td>1.0</td>\n",
       "      <td>1.390453</td>\n",
       "      <td>5.756376</td>\n",
       "      <td>...</td>\n",
       "      <td>-0.002416</td>\n",
       "      <td>-0.003974</td>\n",
       "      <td>0.632940</td>\n",
       "      <td>0.268636</td>\n",
       "      <td>0.753473</td>\n",
       "      <td>0.908539</td>\n",
       "      <td>2.908564</td>\n",
       "      <td>4.939604</td>\n",
       "      <td>4.741285</td>\n",
       "      <td>-99.0</td>\n",
       "    </tr>\n",
       "  </tbody>\n",
       "</table>\n",
       "<p>10 rows × 68 columns</p>\n",
       "</div>"
      ],
      "text/plain": [
       "   Jet_jetIndex      Jet_pt   Jet_genpt   Jet_eta   Jet_phi   Jet_mass  \\\n",
       "0            10   33.794209   42.376511  0.646752  2.916097   4.635757   \n",
       "1            11   29.634102   27.482023 -1.092201 -1.847709   5.526241   \n",
       "2            12   22.369608   21.959921 -0.013586  2.285115   4.104486   \n",
       "3            13   20.984880   23.567837 -0.216252  0.612154   3.245879   \n",
       "4            14  111.533165  106.700966 -1.242061  0.656113  11.278137   \n",
       "5            15   78.682678   90.928658 -0.541593  2.855596  13.586503   \n",
       "6            16   62.927746   54.594231  1.047810 -1.411328  12.042562   \n",
       "7            17   46.742874   40.937336 -1.313937  2.646595   7.587672   \n",
       "8            18   29.707779   25.386944 -0.328662 -1.071120   6.868381   \n",
       "9            19  105.522942  100.921181 -0.572873  1.737130   8.502139   \n",
       "\n",
       "   Jet_flavour  Jet_nbHadrons    Jet_JP   Jet_JBP           ...             \\\n",
       "0         21.0            0.0  0.539976  2.172424           ...              \n",
       "1          1.0            0.0 -0.000000  0.143045           ...              \n",
       "2         -3.0            0.0  0.015850  0.167393           ...              \n",
       "3         -2.0            0.0  0.052282  0.381455           ...              \n",
       "4         -3.0            0.0 -0.000000  0.247685           ...              \n",
       "5         -5.0            1.0  0.064958  0.039352           ...              \n",
       "6          3.0            0.0  0.070321  0.436179           ...              \n",
       "7          5.0            1.0  0.722135  3.325557           ...              \n",
       "8          4.0            0.0 -0.000000  0.077006           ...              \n",
       "9         -5.0            1.0  1.390453  5.756376           ...              \n",
       "\n",
       "   TagVarCSV_trackJetDist_2  TagVarCSV_trackJetDist_3  \\\n",
       "0                 -0.007213                -99.000000   \n",
       "1                 -0.003478                 -0.000484   \n",
       "2                 -0.000455                 -0.001004   \n",
       "3                 -0.000639                -99.000000   \n",
       "4                 -0.000988                 -0.000165   \n",
       "5                -99.000000                -99.000000   \n",
       "6                 -0.006756                 -0.002800   \n",
       "7                -99.000000                -99.000000   \n",
       "8                -99.000000                -99.000000   \n",
       "9                 -0.002416                 -0.003974   \n",
       "\n",
       "   TagVarCSV_trackDecayLenVal_0  TagVarCSV_trackDecayLenVal_1  \\\n",
       "0                      0.005284                      0.062314   \n",
       "1                      0.010517                      0.049016   \n",
       "2                      0.028289                      0.025825   \n",
       "3                      0.013558                      0.092695   \n",
       "4                      0.206171                      0.008384   \n",
       "5                      0.057338                    -99.000000   \n",
       "6                      0.079472                      0.017019   \n",
       "7                      0.574685                      0.588342   \n",
       "8                      0.077510                    -99.000000   \n",
       "9                      0.632940                      0.268636   \n",
       "\n",
       "   TagVarCSV_trackDecayLenVal_2  TagVarCSV_trackDecayLenVal_3  \\\n",
       "0                      0.033209                    -99.000000   \n",
       "1                      0.031393                      0.192932   \n",
       "2                      0.331407                      0.210251   \n",
       "3                      0.047280                    -99.000000   \n",
       "4                      0.586856                      0.497479   \n",
       "5                    -99.000000                    -99.000000   \n",
       "6                      0.015619                      0.093106   \n",
       "7                    -99.000000                    -99.000000   \n",
       "8                    -99.000000                    -99.000000   \n",
       "9                      0.753473                      0.908539   \n",
       "\n",
       "   TagVarCSV_trackEtaRel_0  TagVarCSV_trackEtaRel_1  TagVarCSV_trackEtaRel_2  \\\n",
       "0               -99.000000               -99.000000               -99.000000   \n",
       "1               -99.000000               -99.000000               -99.000000   \n",
       "2               -99.000000               -99.000000               -99.000000   \n",
       "3               -99.000000               -99.000000               -99.000000   \n",
       "4               -99.000000               -99.000000               -99.000000   \n",
       "5               -99.000000               -99.000000               -99.000000   \n",
       "6               -99.000000               -99.000000               -99.000000   \n",
       "7                 3.768583                 4.102428                 3.395831   \n",
       "8               -99.000000               -99.000000               -99.000000   \n",
       "9                 2.908564                 4.939604                 4.741285   \n",
       "\n",
       "   TagVarCSV_trackEtaRel_3  \n",
       "0                    -99.0  \n",
       "1                    -99.0  \n",
       "2                    -99.0  \n",
       "3                    -99.0  \n",
       "4                    -99.0  \n",
       "5                    -99.0  \n",
       "6                    -99.0  \n",
       "7                    -99.0  \n",
       "8                    -99.0  \n",
       "9                    -99.0  \n",
       "\n",
       "[10 rows x 68 columns]"
      ]
     },
     "execution_count": 101,
     "metadata": {},
     "output_type": "execute_result"
    }
   ],
   "source": [
    "d1"
   ]
  },
  {
   "cell_type": "code",
   "execution_count": 95,
   "metadata": {
    "collapsed": false
   },
   "outputs": [
    {
     "data": {
      "text/plain": [
       "8"
      ]
     },
     "execution_count": 95,
     "metadata": {},
     "output_type": "execute_result"
    }
   ],
   "source": [
    "ff"
   ]
  },
  {
   "cell_type": "code",
   "execution_count": null,
   "metadata": {
    "collapsed": true
   },
   "outputs": [],
   "source": []
  },
  {
   "cell_type": "code",
   "execution_count": 14,
   "metadata": {
    "collapsed": false
   },
   "outputs": [],
   "source": [
    "# iterate over the track list to join jets with the tracks belonging to them\n",
    "for irow, row in d2.iterrows():\n",
    "    # these are the track data of the current track:\n",
    "    tracks = row[[\"Track_pt\", \"Track_eta\", \"Track_phi\", \"Track_dxy\", \"Track_dz\", \"Track_IP\", \"Track_IP2D\", \"Track_length\"]].as_matrix()\n",
    "    jet_index = int(row[\"Track_jetIndex\"])\n",
    "    table_index = d1.loc[d1['Jet_jetIndex'] == jet_index].index[0]\n",
    "    \n",
    "    # append the tracks data to the matching jet in the main table\n",
    "    d1['track_data'][table_index].append(tracks)"
   ]
  },
  {
   "cell_type": "code",
   "execution_count": 20,
   "metadata": {
    "collapsed": true
   },
   "outputs": [],
   "source": [
    "# now divide the jets and put them in separate lists, according to their flavour\n",
    "jets_b = []\n",
    "jets_l = []\n",
    "jets_c = []\n",
    "\n",
    "# iterate over the jet list, with already matched tracks\n",
    "for irow, row in d1.iterrows():\n",
    "    flavour = int(row[\"Jet_flavour\"])\n",
    "    \n",
    "    # select the right list this jet belongs to\n",
    "    if abs(flavour) == 5:\n",
    "        jets = jets_b\n",
    "    elif abs(flavour) == 4:\n",
    "        jets = jets_c\n",
    "    else:\n",
    "        jets = jets_l\n",
    "        \n",
    "    # add the new jet to the list\n",
    "    jets += [(row[\"Jet_pt\"], row[\"Jet_eta\"], row[\"Jet_phi\"], row[\"Jet_mass\"], flavour, row[\"track_data\"])]"
   ]
  },
  {
   "cell_type": "code",
   "execution_count": 113,
   "metadata": {
    "collapsed": false
   },
   "outputs": [],
   "source": [
    "# save the thus processed data\n",
    "with open('./jets_b.dat', 'wb') as f:\n",
    "    pickle.dump(jets_b, f)\n",
    "with open('./jets_l.dat', 'wb') as f:\n",
    "    pickle.dump(jets_b, f)\n",
    "with open('./jets_c.dat', 'wb') as f:\n",
    "    pickle.dump(jets_b, f)"
   ]
  },
  {
   "cell_type": "code",
   "execution_count": 114,
   "metadata": {
    "collapsed": true
   },
   "outputs": [],
   "source": [
    "# try to load them back\n",
    "with open('./jets_b.dat', 'rb') as f:\n",
    "    test = pickle.load(f)"
   ]
  },
  {
   "cell_type": "code",
   "execution_count": 25,
   "metadata": {
    "collapsed": false
   },
   "outputs": [],
   "source": [
    "test = pd.DataFrame(jets_b, columns = ['Jet_pt', 'Jet_eta', 'Jet_phi', 'Jet_mass', 'flavor', 'track_data'])"
   ]
  },
  {
   "cell_type": "code",
   "execution_count": 38,
   "metadata": {
    "collapsed": false
   },
   "outputs": [
    {
     "data": {
      "text/plain": [
       "12"
      ]
     },
     "execution_count": 38,
     "metadata": {},
     "output_type": "execute_result"
    }
   ],
   "source": [
    "len(test.loc[0]['track_data'])"
   ]
  },
  {
   "cell_type": "code",
   "execution_count": null,
   "metadata": {
    "collapsed": true
   },
   "outputs": [],
   "source": []
  }
 ],
 "metadata": {
  "anaconda-cloud": {},
  "kernelspec": {
   "display_name": "Python [conda root]",
   "language": "python",
   "name": "conda-root-py"
  },
  "language_info": {
   "codemirror_mode": {
    "name": "ipython",
    "version": 2
   },
   "file_extension": ".py",
   "mimetype": "text/x-python",
   "name": "python",
   "nbconvert_exporter": "python",
   "pygments_lexer": "ipython2",
   "version": "2.7.12"
  }
 },
 "nbformat": 4,
 "nbformat_minor": 1
}
