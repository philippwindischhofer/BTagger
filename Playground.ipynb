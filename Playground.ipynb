{
 "cells": [
  {
   "cell_type": "code",
   "execution_count": 1,
   "metadata": {
    "collapsed": false
   },
   "outputs": [
    {
     "data": {
      "application/javascript": [
       "require(['codemirror/mode/clike/clike'], function(Clike) { console.log('ROOTaaS - C++ CodeMirror module loaded'); });"
      ]
     },
     "metadata": {},
     "output_type": "display_data"
    },
    {
     "data": {
      "application/javascript": [
       "IPython.CodeCell.config_defaults.highlight_modes['magic_text/x-c++src'] = {'reg':[/^%%cpp/]};"
      ]
     },
     "metadata": {},
     "output_type": "display_data"
    },
    {
     "name": "stdout",
     "output_type": "stream",
     "text": [
      "Welcome to ROOTaaS 6.06/08\n"
     ]
    }
   ],
   "source": [
    "import ROOT\n",
    "import root_numpy as rnpy\n",
    "import pandas as pd\n",
    "import numpy as np\n",
    "%matplotlib inline\n",
    "import matplotlib.pyplot as plt\n",
    "import seaborn\n",
    "import pickle"
   ]
  },
  {
   "cell_type": "code",
   "execution_count": 102,
   "metadata": {
    "collapsed": true
   },
   "outputs": [],
   "source": [
    "batch_size_jets = 25\n",
    "batch_size_tracks = 25\n",
    "read_pos_jets = 0\n",
    "read_pos_tracks = 0"
   ]
  },
  {
   "cell_type": "code",
   "execution_count": 103,
   "metadata": {
    "collapsed": false
   },
   "outputs": [],
   "source": [
    "d1 = pd.DataFrame(rnpy.root2array(\"/mnt/t3nfs01/data01/shome/jpata/btv/gc/TagVarExtractor/GCa08e5e237323/TT_TuneCUETP8M1_13TeV-powheg-pythia8/job_0_out.root\",\n",
    "                                 treename = \"tagVars/ttree\", start = read_pos_jets, stop = read_pos_jets + batch_size_jets))"
   ]
  },
  {
   "cell_type": "code",
   "execution_count": 104,
   "metadata": {
    "collapsed": false
   },
   "outputs": [
    {
     "name": "stderr",
     "output_type": "stream",
     "text": [
      "/swshare/anaconda/lib/python2.7/site-packages/root_numpy/_tree.py:209: RuntimeWarning: ignoring duplicate branch named 'Track_nHitPixel'\n",
      "  warn_missing_tree)\n"
     ]
    }
   ],
   "source": [
    "d2 = pd.DataFrame(rnpy.root2array(\"/mnt/t3nfs01/data01/shome/jpata/btv/gc/TagVarExtractor/GCa08e5e237323/TT_TuneCUETP8M1_13TeV-powheg-pythia8/job_0_out.root\",\n",
    "                                 treename = \"tagVars/ttree_track\", start = read_pos_tracks, stop = read_pos_tracks + batch_size_tracks))"
   ]
  },
  {
   "cell_type": "code",
   "execution_count": 105,
   "metadata": {
    "collapsed": false
   },
   "outputs": [],
   "source": [
    "last_tracks = (int)(d2.tail(1)['Track_jetIndex'].iloc[0]-1)"
   ]
  },
  {
   "cell_type": "code",
   "execution_count": 106,
   "metadata": {
    "collapsed": false
   },
   "outputs": [],
   "source": [
    "last_jet = (int)(d1.tail(1)['Jet_jetIndex'].iloc[0]-1)"
   ]
  },
  {
   "cell_type": "code",
   "execution_count": 107,
   "metadata": {
    "collapsed": true
   },
   "outputs": [],
   "source": [
    "read_pos_jets += (d1.loc[d1['Jet_jetIndex'] == last_tracks].index[-1] + 1)\n",
    "read_pos_tracks += (d2.loc[d2['Track_jetIndex'] == last_tracks].index[-1] + 1)"
   ]
  },
  {
   "cell_type": "code",
   "execution_count": 108,
   "metadata": {
    "collapsed": true
   },
   "outputs": [],
   "source": [
    "d1['track_data'] = pd.np.empty((len(d1.index), 0)).tolist()"
   ]
  },
  {
   "cell_type": "code",
   "execution_count": 109,
   "metadata": {
    "collapsed": false
   },
   "outputs": [],
   "source": [
    "# iterate over the track list to join jets with the tracks belonging to them\n",
    "for irow, row in d2.iterrows():\n",
    "    # these are the track data of the current track:\n",
    "    tracks = row[[\"Track_pt\", \"Track_eta\", \"Track_phi\", \"Track_dxy\", \"Track_dz\", \"Track_IP\", \"Track_IP2D\", \"Track_length\"]].as_matrix()\n",
    "    jet_index = int(row[\"Track_jetIndex\"])\n",
    "    if jet_index > last_tracks:\n",
    "        break\n",
    "    table_index = d1.loc[d1['Jet_jetIndex'] == jet_index].index[0]\n",
    "    \n",
    "    # append the tracks data to the matching jet in the main table\n",
    "    d1['track_data'][table_index].append(tracks)"
   ]
  },
  {
   "cell_type": "code",
   "execution_count": 4,
   "metadata": {
    "collapsed": true
   },
   "outputs": [],
   "source": [
    "def get_max_tracks(data):\n",
    "    retval = 0\n",
    "    for cur in data['track_data']:\n",
    "        if len(cur) > retval:\n",
    "            retval = len(cur)\n",
    "    return retval"
   ]
  },
  {
   "cell_type": "code",
   "execution_count": 5,
   "metadata": {
    "collapsed": false
   },
   "outputs": [],
   "source": [
    "def equalize_tracks(data, set_tracks):\n",
    "    empty = np.full(8, 0, float)\n",
    "    for idx, cur in enumerate(data['track_data']):\n",
    "        # take only these that are non-empty track lists\n",
    "        if(len(cur) > 0):\n",
    "            for i in range(set_tracks - len(cur)):\n",
    "                data['track_data'][idx].append(empty)"
   ]
  },
  {
   "cell_type": "code",
   "execution_count": 6,
   "metadata": {
    "collapsed": true
   },
   "outputs": [],
   "source": [
    "def create_track_columns(set_tracks, number_parameters):\n",
    "    colnames = []\n",
    "    for i in range(set_tracks * number_parameters):\n",
    "        colnames.append('T' + str(i))\n",
    "    return colnames"
   ]
  },
  {
   "cell_type": "code",
   "execution_count": 7,
   "metadata": {
    "collapsed": false
   },
   "outputs": [],
   "source": [
    "def create_track_table(data):\n",
    "    set_tracks = len(data['track_data'][0])\n",
    "    number_parameters = len(data['track_data'][0][0])\n",
    "    \n",
    "    tracks = []\n",
    "    colnames = create_track_columns(set_tracks, number_parameters)\n",
    "    \n",
    "    for cur in data['track_data']:\n",
    "        arr = np.array(cur)\n",
    "        tracks.append(arr.flatten())\n",
    "        \n",
    "    return pd.DataFrame(tracks, columns=colnames)"
   ]
  },
  {
   "cell_type": "code",
   "execution_count": 8,
   "metadata": {
    "collapsed": true
   },
   "outputs": [],
   "source": [
    "def create_track_list(table, set_tracks, number_parameters):\n",
    "    number_jets = len(table)\n",
    "    cols = create_track_columns(set_tracks, number_parameters)\n",
    "\n",
    "    # extract raw matrix\n",
    "    tracks = table.ix[:,cols].as_matrix()\n",
    "    return tracks.reshape(number_jets, -1, number_parameters)"
   ]
  },
  {
   "cell_type": "code",
   "execution_count": 10,
   "metadata": {
    "collapsed": true
   },
   "outputs": [],
   "source": [
    "set_tracks = 10\n",
    "number_parameters = 8"
   ]
  },
  {
   "cell_type": "code",
   "execution_count": 153,
   "metadata": {
    "collapsed": false
   },
   "outputs": [],
   "source": [
    "equalize_tracks(matched, set_tracks)"
   ]
  },
  {
   "cell_type": "code",
   "execution_count": 23,
   "metadata": {
    "collapsed": false
   },
   "outputs": [],
   "source": [
    "track_table = create_track_table(d1)"
   ]
  },
  {
   "cell_type": "code",
   "execution_count": 24,
   "metadata": {
    "collapsed": false
   },
   "outputs": [],
   "source": [
    "joined = pd.concat([d1.ix[:,0:-1], track_table], axis = 1)"
   ]
  },
  {
   "cell_type": "code",
   "execution_count": 25,
   "metadata": {
    "collapsed": false
   },
   "outputs": [],
   "source": [
    "tracks_reconstructed = create_track_list(joined, set_tracks, number_parameters)"
   ]
  },
  {
   "cell_type": "code",
   "execution_count": 146,
   "metadata": {
    "collapsed": false
   },
   "outputs": [],
   "source": [
    "matched = d1.loc[d1['Jet_jetIndex'] < 30]"
   ]
  },
  {
   "cell_type": "code",
   "execution_count": 150,
   "metadata": {
    "collapsed": true
   },
   "outputs": [],
   "source": [
    "matched = matched.loc[lengths > 0]"
   ]
  },
  {
   "cell_type": "code",
   "execution_count": 152,
   "metadata": {
    "collapsed": false
   },
   "outputs": [
    {
     "data": {
      "text/html": [
       "<div>\n",
       "<table border=\"1\" class=\"dataframe\">\n",
       "  <thead>\n",
       "    <tr style=\"text-align: right;\">\n",
       "      <th></th>\n",
       "      <th>Jet_jetIndex</th>\n",
       "      <th>Jet_pt</th>\n",
       "      <th>Jet_genpt</th>\n",
       "      <th>Jet_eta</th>\n",
       "      <th>Jet_phi</th>\n",
       "      <th>Jet_mass</th>\n",
       "      <th>Jet_flavour</th>\n",
       "      <th>Jet_nbHadrons</th>\n",
       "      <th>Jet_JP</th>\n",
       "      <th>Jet_JBP</th>\n",
       "      <th>...</th>\n",
       "      <th>TagVarCSV_trackJetDist_3</th>\n",
       "      <th>TagVarCSV_trackDecayLenVal_0</th>\n",
       "      <th>TagVarCSV_trackDecayLenVal_1</th>\n",
       "      <th>TagVarCSV_trackDecayLenVal_2</th>\n",
       "      <th>TagVarCSV_trackDecayLenVal_3</th>\n",
       "      <th>TagVarCSV_trackEtaRel_0</th>\n",
       "      <th>TagVarCSV_trackEtaRel_1</th>\n",
       "      <th>TagVarCSV_trackEtaRel_2</th>\n",
       "      <th>TagVarCSV_trackEtaRel_3</th>\n",
       "      <th>track_data</th>\n",
       "    </tr>\n",
       "  </thead>\n",
       "  <tbody>\n",
       "    <tr>\n",
       "      <th>0</th>\n",
       "      <td>0</td>\n",
       "      <td>182.438431</td>\n",
       "      <td>163.630890</td>\n",
       "      <td>-0.237132</td>\n",
       "      <td>-2.236427</td>\n",
       "      <td>16.854450</td>\n",
       "      <td>-4.0</td>\n",
       "      <td>0.0</td>\n",
       "      <td>0.880459</td>\n",
       "      <td>3.552757</td>\n",
       "      <td>...</td>\n",
       "      <td>-99.000000</td>\n",
       "      <td>1.934348</td>\n",
       "      <td>0.011753</td>\n",
       "      <td>0.026479</td>\n",
       "      <td>-99.000000</td>\n",
       "      <td>4.764413</td>\n",
       "      <td>3.611055</td>\n",
       "      <td>3.247250</td>\n",
       "      <td>-99.000000</td>\n",
       "      <td>[[17.8906, -0.222114, -2.24089, 0.02125, -0.02...</td>\n",
       "    </tr>\n",
       "    <tr>\n",
       "      <th>1</th>\n",
       "      <td>1</td>\n",
       "      <td>67.666817</td>\n",
       "      <td>48.347958</td>\n",
       "      <td>1.526484</td>\n",
       "      <td>1.863574</td>\n",
       "      <td>11.641233</td>\n",
       "      <td>2.0</td>\n",
       "      <td>0.0</td>\n",
       "      <td>0.504102</td>\n",
       "      <td>2.620981</td>\n",
       "      <td>...</td>\n",
       "      <td>-0.002323</td>\n",
       "      <td>0.020211</td>\n",
       "      <td>0.819694</td>\n",
       "      <td>0.020396</td>\n",
       "      <td>2.094727</td>\n",
       "      <td>3.716417</td>\n",
       "      <td>4.664929</td>\n",
       "      <td>-99.000000</td>\n",
       "      <td>-99.000000</td>\n",
       "      <td>[[2.16211, 1.84118, 1.70083, 0.0012561, -0.052...</td>\n",
       "    </tr>\n",
       "    <tr>\n",
       "      <th>2</th>\n",
       "      <td>2</td>\n",
       "      <td>67.311432</td>\n",
       "      <td>75.550545</td>\n",
       "      <td>1.085625</td>\n",
       "      <td>-0.154507</td>\n",
       "      <td>11.436769</td>\n",
       "      <td>5.0</td>\n",
       "      <td>1.0</td>\n",
       "      <td>1.383020</td>\n",
       "      <td>6.356793</td>\n",
       "      <td>...</td>\n",
       "      <td>-99.000000</td>\n",
       "      <td>1.709969</td>\n",
       "      <td>3.066908</td>\n",
       "      <td>0.376480</td>\n",
       "      <td>-99.000000</td>\n",
       "      <td>4.372991</td>\n",
       "      <td>5.275004</td>\n",
       "      <td>3.397882</td>\n",
       "      <td>3.878511</td>\n",
       "      <td>[[2.53906, 1.15928, -0.062994, -0.015498, -0.0...</td>\n",
       "    </tr>\n",
       "  </tbody>\n",
       "</table>\n",
       "<p>3 rows × 69 columns</p>\n",
       "</div>"
      ],
      "text/plain": [
       "   Jet_jetIndex      Jet_pt   Jet_genpt   Jet_eta   Jet_phi   Jet_mass  \\\n",
       "0             0  182.438431  163.630890 -0.237132 -2.236427  16.854450   \n",
       "1             1   67.666817   48.347958  1.526484  1.863574  11.641233   \n",
       "2             2   67.311432   75.550545  1.085625 -0.154507  11.436769   \n",
       "\n",
       "   Jet_flavour  Jet_nbHadrons    Jet_JP   Jet_JBP  \\\n",
       "0         -4.0            0.0  0.880459  3.552757   \n",
       "1          2.0            0.0  0.504102  2.620981   \n",
       "2          5.0            1.0  1.383020  6.356793   \n",
       "\n",
       "                         ...                          \\\n",
       "0                        ...                           \n",
       "1                        ...                           \n",
       "2                        ...                           \n",
       "\n",
       "   TagVarCSV_trackJetDist_3  TagVarCSV_trackDecayLenVal_0  \\\n",
       "0                -99.000000                      1.934348   \n",
       "1                 -0.002323                      0.020211   \n",
       "2                -99.000000                      1.709969   \n",
       "\n",
       "   TagVarCSV_trackDecayLenVal_1  TagVarCSV_trackDecayLenVal_2  \\\n",
       "0                      0.011753                      0.026479   \n",
       "1                      0.819694                      0.020396   \n",
       "2                      3.066908                      0.376480   \n",
       "\n",
       "   TagVarCSV_trackDecayLenVal_3  TagVarCSV_trackEtaRel_0  \\\n",
       "0                    -99.000000                 4.764413   \n",
       "1                      2.094727                 3.716417   \n",
       "2                    -99.000000                 4.372991   \n",
       "\n",
       "   TagVarCSV_trackEtaRel_1  TagVarCSV_trackEtaRel_2  TagVarCSV_trackEtaRel_3  \\\n",
       "0                 3.611055                 3.247250               -99.000000   \n",
       "1                 4.664929               -99.000000               -99.000000   \n",
       "2                 5.275004                 3.397882                 3.878511   \n",
       "\n",
       "                                          track_data  \n",
       "0  [[17.8906, -0.222114, -2.24089, 0.02125, -0.02...  \n",
       "1  [[2.16211, 1.84118, 1.70083, 0.0012561, -0.052...  \n",
       "2  [[2.53906, 1.15928, -0.062994, -0.015498, -0.0...  \n",
       "\n",
       "[3 rows x 69 columns]"
      ]
     },
     "execution_count": 152,
     "metadata": {},
     "output_type": "execute_result"
    }
   ],
   "source": [
    "matched"
   ]
  },
  {
   "cell_type": "code",
   "execution_count": 143,
   "metadata": {
    "collapsed": false
   },
   "outputs": [
    {
     "ename": "ValueError",
     "evalue": "The truth value of a Series is ambiguous. Use a.empty, a.bool(), a.item(), a.any() or a.all().",
     "output_type": "error",
     "traceback": [
      "\u001b[0;31m\u001b[0m",
      "\u001b[0;31mValueError\u001b[0mTraceback (most recent call last)",
      "\u001b[0;32m<ipython-input-143-649b1ca71235>\u001b[0m in \u001b[0;36m<module>\u001b[0;34m()\u001b[0m\n\u001b[0;32m----> 1\u001b[0;31m \u001b[0md1\u001b[0m\u001b[0;34m[\u001b[0m\u001b[0;34m'Jet_jetIndex'\u001b[0m\u001b[0;34m]\u001b[0m \u001b[0;34m<\u001b[0m \u001b[0;36m30\u001b[0m \u001b[0;32mand\u001b[0m \u001b[0mlengths\u001b[0m \u001b[0;34m<\u001b[0m \u001b[0;36m4\u001b[0m\u001b[0;34m\u001b[0m\u001b[0m\n\u001b[0m",
      "\u001b[0;32m/swshare/anaconda/lib/python2.7/site-packages/pandas/core/generic.py\u001b[0m in \u001b[0;36m__nonzero__\u001b[0;34m(self)\u001b[0m\n\u001b[1;32m    890\u001b[0m         raise ValueError(\"The truth value of a {0} is ambiguous. \"\n\u001b[1;32m    891\u001b[0m                          \u001b[0;34m\"Use a.empty, a.bool(), a.item(), a.any() or a.all().\"\u001b[0m\u001b[0;34m\u001b[0m\u001b[0m\n\u001b[0;32m--> 892\u001b[0;31m                          .format(self.__class__.__name__))\n\u001b[0m\u001b[1;32m    893\u001b[0m \u001b[0;34m\u001b[0m\u001b[0m\n\u001b[1;32m    894\u001b[0m     \u001b[0m__bool__\u001b[0m \u001b[0;34m=\u001b[0m \u001b[0m__nonzero__\u001b[0m\u001b[0;34m\u001b[0m\u001b[0m\n",
      "\u001b[0;31mValueError\u001b[0m: The truth value of a Series is ambiguous. Use a.empty, a.bool(), a.item(), a.any() or a.all()."
     ]
    }
   ],
   "source": [
    "d1['Jet_jetIndex'] < 30 and lengths < 4"
   ]
  },
  {
   "cell_type": "code",
   "execution_count": 148,
   "metadata": {
    "collapsed": false
   },
   "outputs": [],
   "source": [
    "lengths = np.array(map(len, matched['track_data']))"
   ]
  },
  {
   "cell_type": "code",
   "execution_count": 149,
   "metadata": {
    "collapsed": false
   },
   "outputs": [
    {
     "data": {
      "text/plain": [
       "array([False, False, False,  True,  True,  True,  True,  True,  True,\n",
       "        True,  True,  True,  True,  True,  True,  True,  True,  True,\n",
       "        True,  True,  True,  True,  True,  True,  True], dtype=bool)"
      ]
     },
     "execution_count": 149,
     "metadata": {},
     "output_type": "execute_result"
    }
   ],
   "source": [
    "lengths < 4"
   ]
  },
  {
   "cell_type": "code",
   "execution_count": 131,
   "metadata": {
    "collapsed": true
   },
   "outputs": [],
   "source": [
    "def save_dataset(file, data):\n",
    "    store = pd.HDFStore(file)\n",
    "    store.put('data', data, format = 'table')\n",
    "    store.close()"
   ]
  },
  {
   "cell_type": "code",
   "execution_count": 517,
   "metadata": {
    "collapsed": false
   },
   "outputs": [],
   "source": [
    "save_dataset('./padded_test.h5', joined)"
   ]
  },
  {
   "cell_type": "code",
   "execution_count": 38,
   "metadata": {
    "collapsed": false
   },
   "outputs": [],
   "source": [
    "# now divide the jets and put them in separate lists, according to their flavour\n",
    "jets_b = []\n",
    "jets_l = []\n",
    "jets_c = []\n",
    "\n",
    "# iterate over the jet list, with already matched tracks\n",
    "for irow, row in d1.iterrows():\n",
    "    jet_index = int(row[\"Jet_jetIndex\"])\n",
    "    if jet_index > last_tracks:\n",
    "        break\n",
    "    \n",
    "    flavour = int(row[\"Jet_flavour\"])\n",
    "    \n",
    "    # select the right list this jet belongs to\n",
    "    if abs(flavour) == 5:\n",
    "        jets = jets_b\n",
    "    elif abs(flavour) == 4:\n",
    "        jets = jets_c\n",
    "    else:\n",
    "        jets = jets_l\n",
    "        \n",
    "    # add the new jet to the list\n",
    "    jets += [(row[\"Jet_pt\"], row[\"Jet_eta\"], row[\"Jet_phi\"], row[\"Jet_mass\"], flavour, row[\"track_data\"])]"
   ]
  },
  {
   "cell_type": "code",
   "execution_count": 12,
   "metadata": {
    "collapsed": true
   },
   "outputs": [],
   "source": [
    "def read_metadata(store):\n",
    "    return store.get_storer('data').attrs.metadata"
   ]
  },
  {
   "cell_type": "code",
   "execution_count": 13,
   "metadata": {
    "collapsed": false
   },
   "outputs": [],
   "source": [
    "with pd.HDFStore('/shome/phwindis/data/matched/1.h5') as store:\n",
    "    metadata = read_metadata(store)\n",
    "number_tracks = metadata['number_tracks']"
   ]
  },
  {
   "cell_type": "code",
   "execution_count": 10,
   "metadata": {
    "collapsed": false
   },
   "outputs": [
    {
     "data": {
      "text/plain": [
       "{'number_jets': 218280, 'number_tracks': 33}"
      ]
     },
     "execution_count": 10,
     "metadata": {},
     "output_type": "execute_result"
    }
   ],
   "source": [
    "metadata"
   ]
  },
  {
   "cell_type": "code",
   "execution_count": 3,
   "metadata": {
    "collapsed": false
   },
   "outputs": [],
   "source": [
    "readin = pd.read_hdf('/shome/phwindis/data/matched/1.h5', start = 0, stop = 100)"
   ]
  },
  {
   "cell_type": "code",
   "execution_count": 14,
   "metadata": {
    "collapsed": false
   },
   "outputs": [],
   "source": [
    "tracks_reconstructed = create_track_list(readin, 10, number_parameters)"
   ]
  },
  {
   "cell_type": "code",
   "execution_count": 42,
   "metadata": {
    "collapsed": false
   },
   "outputs": [
    {
     "data": {
      "text/plain": [
       "array([ 0.97759438, -0.93817204, -0.9056263 ,  0.99995869,  0.96916735,\n",
       "       -0.96862096,  0.79796869,  0.44782898, -0.71334231, -0.49860942,\n",
       "       -0.39784011, -0.9813332 , -0.97864479, -0.90943664, -0.92523175,\n",
       "        0.33376306,  0.8850323 , -0.78510237, -0.60716963, -0.89652079,\n",
       "       -0.75439924, -0.94556302, -0.66096997,  0.93361443, -0.93128121,\n",
       "       -0.27269113, -0.9683333 ,  0.01278492, -0.97646505,  0.29421097,\n",
       "       -0.96412307, -0.95737278, -0.96737945,  0.99979365, -0.98034173,\n",
       "       -0.96815747, -0.97214532,  0.20775168, -0.92655307,  0.99768877,\n",
       "       -0.53543258,  0.99609721, -0.93817204, -0.83986562, -0.97826576,\n",
       "       -0.44808009,  0.99577832, -0.96609199,  0.99995476, -0.70638752,\n",
       "       -0.95370311, -0.10550378, -0.98441344,  0.35315526, -0.98413479,\n",
       "        0.44813848,  0.99712759, -0.97797716, -0.96545619, -0.9813332 ,\n",
       "       -0.89524049,  0.99995869,  0.98875207, -0.98413479, -0.23230772,\n",
       "       -0.61376381,  0.99993879, -0.89786375,  0.96770173, -0.73464096,\n",
       "       -0.92939246, -0.9389863 , -0.90409529, -0.10513945, -0.95600569,\n",
       "       -0.97537315, -0.71209526, -0.41836199, -0.95460975, -0.96531296,\n",
       "       -0.23230772, -0.97726315, -0.97413594, -0.9849056 , -0.98013026,\n",
       "       -0.92175812,  0.8317169 , -0.77971298, -0.97864479, -0.95342278,\n",
       "        0.09695949,  0.09408829, -0.96975374, -0.86154181, -0.93817204,\n",
       "       -0.9813332 , -0.5236755 , -0.98724663,  0.29421097, -0.89442933], dtype=float32)"
      ]
     },
     "execution_count": 42,
     "metadata": {},
     "output_type": "execute_result"
    }
   ],
   "source": [
    "np.array(readin['Jet_cMVA'])"
   ]
  },
  {
   "cell_type": "code",
   "execution_count": 26,
   "metadata": {
    "collapsed": true
   },
   "outputs": [],
   "source": [
    "tracks_sorted = np.array([sorted(cur, key = lambda tracks: tracks[0], reverse = True) for cur in tracks_reconstructed])"
   ]
  },
  {
   "cell_type": "code",
   "execution_count": 27,
   "metadata": {
    "collapsed": false
   },
   "outputs": [
    {
     "data": {
      "text/plain": [
       "array([[[  1.00546875e+01,  -3.76293212e-01,  -2.76434135e+00, ...,\n",
       "           1.14440946e-02,   1.13964770e-02,   7.37814903e-02],\n",
       "        [  2.94921875e+00,  -3.15134138e-01,  -2.41892505e+00, ...,\n",
       "           5.65006621e-02,   2.34374944e-02,   2.41832882e-01],\n",
       "        [  2.63867188e+00,  -4.74623859e-01,  -2.40915179e+00, ...,\n",
       "           1.91296991e-02,   1.62890702e-02,   1.00551613e-01],\n",
       "        ..., \n",
       "        [  0.00000000e+00,   0.00000000e+00,   0.00000000e+00, ...,\n",
       "           0.00000000e+00,   0.00000000e+00,   0.00000000e+00],\n",
       "        [  0.00000000e+00,   0.00000000e+00,   0.00000000e+00, ...,\n",
       "           0.00000000e+00,   0.00000000e+00,   0.00000000e+00],\n",
       "        [  0.00000000e+00,   0.00000000e+00,   0.00000000e+00, ...,\n",
       "           0.00000000e+00,   0.00000000e+00,   0.00000000e+00]],\n",
       "\n",
       "       [[  4.66406250e+00,  -4.32142094e-02,   2.62967229e+00, ...,\n",
       "          -1.38634199e-03,  -1.36107870e-03,   1.38712360e-03],\n",
       "        [  3.39453125e+00,  -2.59834588e-01,   2.86336589e+00, ...,\n",
       "          -3.60638299e-03,  -2.25219666e-03,   1.42079936e-02],\n",
       "        [  3.33007812e+00,  -1.90984830e-01,   2.50036645e+00, ...,\n",
       "           1.48986429e-02,  -1.55883690e-03,   1.87230129e-02],\n",
       "        ..., \n",
       "        [  0.00000000e+00,   0.00000000e+00,   0.00000000e+00, ...,\n",
       "           0.00000000e+00,   0.00000000e+00,   0.00000000e+00],\n",
       "        [  0.00000000e+00,   0.00000000e+00,   0.00000000e+00, ...,\n",
       "           0.00000000e+00,   0.00000000e+00,   0.00000000e+00],\n",
       "        [  0.00000000e+00,   0.00000000e+00,   0.00000000e+00, ...,\n",
       "           0.00000000e+00,   0.00000000e+00,   0.00000000e+00]],\n",
       "\n",
       "       [[  3.14687500e+01,  -1.29825735e+00,  -2.78221345e+00, ...,\n",
       "          -1.45128192e-02,  -1.44921876e-02,   5.95761873e-02],\n",
       "        [  2.34218750e+01,  -9.15555298e-01,  -2.86981368e+00, ...,\n",
       "           1.14220753e-03,   1.05224538e-03,   4.23577148e-03],\n",
       "        [  6.16796875e+00,  -9.75249469e-01,  -2.96161556e+00, ...,\n",
       "          -2.26085447e-03,  -2.20825709e-03,   8.52708798e-03],\n",
       "        ..., \n",
       "        [  0.00000000e+00,   0.00000000e+00,   0.00000000e+00, ...,\n",
       "           0.00000000e+00,   0.00000000e+00,   0.00000000e+00],\n",
       "        [  0.00000000e+00,   0.00000000e+00,   0.00000000e+00, ...,\n",
       "           0.00000000e+00,   0.00000000e+00,   0.00000000e+00],\n",
       "        [  0.00000000e+00,   0.00000000e+00,   0.00000000e+00, ...,\n",
       "           0.00000000e+00,   0.00000000e+00,   0.00000000e+00]],\n",
       "\n",
       "       ..., \n",
       "       [[  1.71875000e+01,  -2.14239940e-01,   1.86743927e+00, ...,\n",
       "          -1.79772300e-03,  -1.73095928e-03,   9.40069743e-03],\n",
       "        [  9.27343750e+00,  -1.54545739e-01,   1.79185271e+00, ...,\n",
       "          -1.33605709e-03,  -4.94686246e-04,   1.43880714e-02],\n",
       "        [  3.31250000e+00,  -2.72286147e-01,   1.81714237e+00, ...,\n",
       "          -6.37717452e-03,  -3.93554429e-03,   6.87849298e-02],\n",
       "        ..., \n",
       "        [  0.00000000e+00,   0.00000000e+00,   0.00000000e+00, ...,\n",
       "           0.00000000e+00,   0.00000000e+00,   0.00000000e+00],\n",
       "        [  0.00000000e+00,   0.00000000e+00,   0.00000000e+00, ...,\n",
       "           0.00000000e+00,   0.00000000e+00,   0.00000000e+00],\n",
       "        [  0.00000000e+00,   0.00000000e+00,   0.00000000e+00, ...,\n",
       "           0.00000000e+00,   0.00000000e+00,   0.00000000e+00]],\n",
       "\n",
       "       [[  2.25000000e+00,   5.47868311e-01,   2.90370631e+00, ...,\n",
       "           4.20179553e-02,   3.66406180e-02,   3.69311213e-01],\n",
       "        [  1.35156250e+00,   6.73482478e-01,   2.76716709e+00, ...,\n",
       "          -4.68709201e-01,  -1.28110543e-01,   3.73167825e+00],\n",
       "        [  0.00000000e+00,   0.00000000e+00,   0.00000000e+00, ...,\n",
       "           0.00000000e+00,   0.00000000e+00,   0.00000000e+00],\n",
       "        ..., \n",
       "        [  0.00000000e+00,   0.00000000e+00,   0.00000000e+00, ...,\n",
       "           0.00000000e+00,   0.00000000e+00,   0.00000000e+00],\n",
       "        [  0.00000000e+00,   0.00000000e+00,   0.00000000e+00, ...,\n",
       "           0.00000000e+00,   0.00000000e+00,   0.00000000e+00],\n",
       "        [  0.00000000e+00,   0.00000000e+00,   0.00000000e+00, ...,\n",
       "           0.00000000e+00,   0.00000000e+00,   0.00000000e+00]],\n",
       "\n",
       "       [[  2.77656250e+01,  -1.03329575e+00,   1.63286197e+00, ...,\n",
       "           1.93484442e-03,   1.92871247e-03,   2.05951229e-01],\n",
       "        [  2.01171875e+00,  -7.72728682e-01,   1.49673021e+00, ...,\n",
       "           3.74866906e-03,   2.69531342e-03,   1.74095538e-02],\n",
       "        [  0.00000000e+00,   0.00000000e+00,   0.00000000e+00, ...,\n",
       "           0.00000000e+00,   0.00000000e+00,   0.00000000e+00],\n",
       "        ..., \n",
       "        [  0.00000000e+00,   0.00000000e+00,   0.00000000e+00, ...,\n",
       "           0.00000000e+00,   0.00000000e+00,   0.00000000e+00],\n",
       "        [  0.00000000e+00,   0.00000000e+00,   0.00000000e+00, ...,\n",
       "           0.00000000e+00,   0.00000000e+00,   0.00000000e+00],\n",
       "        [  0.00000000e+00,   0.00000000e+00,   0.00000000e+00, ...,\n",
       "           0.00000000e+00,   0.00000000e+00,   0.00000000e+00]]])"
      ]
     },
     "execution_count": 27,
     "metadata": {},
     "output_type": "execute_result"
    }
   ],
   "source": [
    "tracks_sorted"
   ]
  },
  {
   "cell_type": "code",
   "execution_count": 24,
   "metadata": {
    "collapsed": false
   },
   "outputs": [
    {
     "data": {
      "text/plain": [
       "array([[  4.66406250e+00,  -4.32142094e-02,   2.62967229e+00,\n",
       "         -1.36108405e-03,  -2.63824477e-04,  -1.38634199e-03,\n",
       "         -1.36107870e-03,   1.38712360e-03],\n",
       "       [  3.04882812e+00,  -9.04568657e-02,   2.60525823e+00,\n",
       "         -1.58569333e-03,   3.79882823e-03,  -4.10225242e-03,\n",
       "         -1.58569159e-03,   5.10660820e-02],\n",
       "       [  1.13085938e+00,  -1.34403512e-01,   2.87175894e+00,\n",
       "          4.43359371e-03,   7.08984397e-03,  -8.30811169e-03,\n",
       "         -4.43359045e-03,   2.46069301e-02],\n",
       "       [  1.33496094e+00,  -1.51615962e-01,   2.51901484e+00,\n",
       "          3.56689445e-03,  -6.48925779e-03,   7.34034460e-03,\n",
       "          3.56689538e-03,   2.93880198e-02],\n",
       "       [  3.33007812e+00,  -1.90984830e-01,   2.50036645e+00,\n",
       "         -1.55883795e-03,   1.50878904e-02,   1.48986429e-02,\n",
       "         -1.55883690e-03,   1.87230129e-02],\n",
       "       [  3.39453125e+00,  -2.59834588e-01,   2.86336589e+00,\n",
       "          2.25219759e-03,  -2.91259773e-03,  -3.60638299e-03,\n",
       "         -2.25219666e-03,   1.42079936e-02],\n",
       "       [  0.00000000e+00,   0.00000000e+00,   0.00000000e+00,\n",
       "          0.00000000e+00,   0.00000000e+00,   0.00000000e+00,\n",
       "          0.00000000e+00,   0.00000000e+00],\n",
       "       [  0.00000000e+00,   0.00000000e+00,   0.00000000e+00,\n",
       "          0.00000000e+00,   0.00000000e+00,   0.00000000e+00,\n",
       "          0.00000000e+00,   0.00000000e+00],\n",
       "       [  0.00000000e+00,   0.00000000e+00,   0.00000000e+00,\n",
       "          0.00000000e+00,   0.00000000e+00,   0.00000000e+00,\n",
       "          0.00000000e+00,   0.00000000e+00],\n",
       "       [  0.00000000e+00,   0.00000000e+00,   0.00000000e+00,\n",
       "          0.00000000e+00,   0.00000000e+00,   0.00000000e+00,\n",
       "          0.00000000e+00,   0.00000000e+00]])"
      ]
     },
     "execution_count": 24,
     "metadata": {},
     "output_type": "execute_result"
    }
   ],
   "source": [
    "tracks_reconstructed[1]"
   ]
  },
  {
   "cell_type": "code",
   "execution_count": 88,
   "metadata": {
    "collapsed": false
   },
   "outputs": [],
   "source": [
    "flavours = np.array(abs(readin['Jet_flavour']) == 5)"
   ]
  },
  {
   "cell_type": "code",
   "execution_count": 89,
   "metadata": {
    "collapsed": false
   },
   "outputs": [
    {
     "data": {
      "text/plain": [
       "array([0, 1, 1, 0, 0, 1, 1, 0, 0, 0, 1, 1, 0, 0, 0, 0, 0, 0, 1, 0, 0, 1, 0,\n",
       "       0, 0, 0, 0, 0, 0, 1, 0, 0, 1, 0, 0, 0, 0, 0, 1, 0, 1, 0, 0, 1, 0, 1,\n",
       "       0, 0, 0, 0, 0, 1, 0, 0, 0, 1, 1, 0, 0, 1, 0, 1, 1, 1, 1, 0, 0, 0, 1,\n",
       "       0, 1, 0, 0, 1, 1, 0, 1, 0, 0, 0, 1, 0, 0, 0, 0, 1, 0, 0, 0, 1, 0, 0,\n",
       "       0, 0, 0, 1, 0, 0, 1, 0])"
      ]
     },
     "execution_count": 89,
     "metadata": {},
     "output_type": "execute_result"
    }
   ],
   "source": [
    "np.array(flavours) * 1"
   ]
  },
  {
   "cell_type": "code",
   "execution_count": 90,
   "metadata": {
    "collapsed": false
   },
   "outputs": [],
   "source": [
    "flavours = flavours * 1"
   ]
  },
  {
   "cell_type": "code",
   "execution_count": 91,
   "metadata": {
    "collapsed": false
   },
   "outputs": [
    {
     "data": {
      "text/plain": [
       "array([[0],\n",
       "       [1],\n",
       "       [1],\n",
       "       [0],\n",
       "       [0],\n",
       "       [1],\n",
       "       [1],\n",
       "       [0],\n",
       "       [0],\n",
       "       [0],\n",
       "       [1],\n",
       "       [1],\n",
       "       [0],\n",
       "       [0],\n",
       "       [0],\n",
       "       [0],\n",
       "       [0],\n",
       "       [0],\n",
       "       [1],\n",
       "       [0],\n",
       "       [0],\n",
       "       [1],\n",
       "       [0],\n",
       "       [0],\n",
       "       [0],\n",
       "       [0],\n",
       "       [0],\n",
       "       [0],\n",
       "       [0],\n",
       "       [1],\n",
       "       [0],\n",
       "       [0],\n",
       "       [1],\n",
       "       [0],\n",
       "       [0],\n",
       "       [0],\n",
       "       [0],\n",
       "       [0],\n",
       "       [1],\n",
       "       [0],\n",
       "       [1],\n",
       "       [0],\n",
       "       [0],\n",
       "       [1],\n",
       "       [0],\n",
       "       [1],\n",
       "       [0],\n",
       "       [0],\n",
       "       [0],\n",
       "       [0],\n",
       "       [0],\n",
       "       [1],\n",
       "       [0],\n",
       "       [0],\n",
       "       [0],\n",
       "       [1],\n",
       "       [1],\n",
       "       [0],\n",
       "       [0],\n",
       "       [1],\n",
       "       [0],\n",
       "       [1],\n",
       "       [1],\n",
       "       [1],\n",
       "       [1],\n",
       "       [0],\n",
       "       [0],\n",
       "       [0],\n",
       "       [1],\n",
       "       [0],\n",
       "       [1],\n",
       "       [0],\n",
       "       [0],\n",
       "       [1],\n",
       "       [1],\n",
       "       [0],\n",
       "       [1],\n",
       "       [0],\n",
       "       [0],\n",
       "       [0],\n",
       "       [1],\n",
       "       [0],\n",
       "       [0],\n",
       "       [0],\n",
       "       [0],\n",
       "       [1],\n",
       "       [0],\n",
       "       [0],\n",
       "       [0],\n",
       "       [1],\n",
       "       [0],\n",
       "       [0],\n",
       "       [0],\n",
       "       [0],\n",
       "       [0],\n",
       "       [1],\n",
       "       [0],\n",
       "       [0],\n",
       "       [1],\n",
       "       [0]])"
      ]
     },
     "execution_count": 91,
     "metadata": {},
     "output_type": "execute_result"
    }
   ],
   "source": [
    "flavours.reshape((len(flavours),1))"
   ]
  },
  {
   "cell_type": "code",
   "execution_count": 98,
   "metadata": {
    "collapsed": false
   },
   "outputs": [
    {
     "data": {
      "text/plain": [
       "Jet_jetIndex                         14.000000\n",
       "Jet_pt                               84.502274\n",
       "Jet_genpt                            87.487740\n",
       "Jet_eta                              -2.325445\n",
       "Jet_phi                               1.617444\n",
       "Jet_mass                              8.225379\n",
       "Jet_flavour                          -2.000000\n",
       "Jet_nbHadrons                         0.000000\n",
       "Jet_JP                               -0.000000\n",
       "Jet_JBP                              -0.000000\n",
       "Jet_CSV                             -10.000000\n",
       "Jet_CSVIVF                          -10.000000\n",
       "Jet_cMVA                             -0.853212\n",
       "Jet_SoftMu                                -inf\n",
       "Jet_SoftEl                                -inf\n",
       "Jet_CTag_CvsL                         0.298788\n",
       "Jet_CTag_CvsB                        -0.288275\n",
       "Jet_nTracks                           0.000000\n",
       "TagVarCSV_jetNTracks                  0.000000\n",
       "TagVarCSV_jetNTracksEtaRel            0.000000\n",
       "TagVarCSV_trackSumJetEtRatio        -99.000000\n",
       "TagVarCSV_trackSumJetDeltaR         -99.000000\n",
       "TagVarCSV_trackSip2dValAboveCharm   -99.000000\n",
       "TagVarCSV_trackSip2dSigAboveCharm   -99.000000\n",
       "TagVarCSV_trackSip3dValAboveCharm   -99.000000\n",
       "TagVarCSV_trackSip3dSigAboveCharm   -99.000000\n",
       "TagVarCSV_vertexCategory            -99.000000\n",
       "TagVarCSV_jetNSecondaryVertices       0.000000\n",
       "TagVarCSV_vertexMass                -99.000000\n",
       "TagVarCSV_vertexNTracks               0.000000\n",
       "                                       ...    \n",
       "T346                                       NaN\n",
       "T347                                       NaN\n",
       "T348                                       NaN\n",
       "T349                                       NaN\n",
       "T350                                       NaN\n",
       "T351                                       NaN\n",
       "T352                                       NaN\n",
       "T353                                       NaN\n",
       "T354                                       NaN\n",
       "T355                                       NaN\n",
       "T356                                       NaN\n",
       "T357                                       NaN\n",
       "T358                                       NaN\n",
       "T359                                       NaN\n",
       "T360                                       NaN\n",
       "T361                                       NaN\n",
       "T362                                       NaN\n",
       "T363                                       NaN\n",
       "T364                                       NaN\n",
       "T365                                       NaN\n",
       "T366                                       NaN\n",
       "T367                                       NaN\n",
       "T368                                       NaN\n",
       "T369                                       NaN\n",
       "T370                                       NaN\n",
       "T371                                       NaN\n",
       "T372                                       NaN\n",
       "T373                                       NaN\n",
       "T374                                       NaN\n",
       "T375                                       NaN\n",
       "Name: 14, dtype: float64"
      ]
     },
     "execution_count": 98,
     "metadata": {},
     "output_type": "execute_result"
    }
   ],
   "source": [
    "readin.loc[14]"
   ]
  },
  {
   "cell_type": "code",
   "execution_count": 99,
   "metadata": {
    "collapsed": false
   },
   "outputs": [
    {
     "data": {
      "text/plain": [
       "array([[  2.52343750e+00,   1.57255781e+00,  -2.06553146e-01,\n",
       "         -3.70117184e-03,  -1.37695316e-02,   6.61189901e-03,\n",
       "          3.70117556e-03,   7.70495534e-02],\n",
       "       [  2.40039062e+00,   1.49821472e+00,  -2.27737248e-01,\n",
       "         -1.24084472e-03,   2.46093748e-03,  -1.62413588e-03,\n",
       "          1.24085054e-03,   2.07710937e-02],\n",
       "       [  2.59960938e+00,   1.22135079e+00,  -4.21110362e-01,\n",
       "          1.97998038e-03,   1.19238282e-02,   6.76507596e-03,\n",
       "          1.97998341e-03,   4.77084294e-02],\n",
       "       [  1.73339844e+00,   1.11038542e+00,  -4.61543173e-01,\n",
       "          4.85839881e-03,   6.30371086e-03,   6.13528350e-03,\n",
       "          4.85840114e-03,   3.04672290e-02],\n",
       "       [  0.00000000e+00,   0.00000000e+00,   0.00000000e+00,\n",
       "          0.00000000e+00,   0.00000000e+00,   0.00000000e+00,\n",
       "          0.00000000e+00,   0.00000000e+00],\n",
       "       [  0.00000000e+00,   0.00000000e+00,   0.00000000e+00,\n",
       "          0.00000000e+00,   0.00000000e+00,   0.00000000e+00,\n",
       "          0.00000000e+00,   0.00000000e+00],\n",
       "       [  0.00000000e+00,   0.00000000e+00,   0.00000000e+00,\n",
       "          0.00000000e+00,   0.00000000e+00,   0.00000000e+00,\n",
       "          0.00000000e+00,   0.00000000e+00],\n",
       "       [  0.00000000e+00,   0.00000000e+00,   0.00000000e+00,\n",
       "          0.00000000e+00,   0.00000000e+00,   0.00000000e+00,\n",
       "          0.00000000e+00,   0.00000000e+00],\n",
       "       [  0.00000000e+00,   0.00000000e+00,   0.00000000e+00,\n",
       "          0.00000000e+00,   0.00000000e+00,   0.00000000e+00,\n",
       "          0.00000000e+00,   0.00000000e+00],\n",
       "       [  0.00000000e+00,   0.00000000e+00,   0.00000000e+00,\n",
       "          0.00000000e+00,   0.00000000e+00,   0.00000000e+00,\n",
       "          0.00000000e+00,   0.00000000e+00]])"
      ]
     },
     "execution_count": 99,
     "metadata": {},
     "output_type": "execute_result"
    }
   ],
   "source": [
    "tracks_reconstructed[13]"
   ]
  },
  {
   "cell_type": "code",
   "execution_count": 73,
   "metadata": {
    "collapsed": false
   },
   "outputs": [
    {
     "data": {
      "text/plain": [
       "array([[  1.07324219e+00,   1.36088133e+00,   7.34601855e-01,\n",
       "          6.87988289e-03,   2.25781258e-02,  -1.28598604e-02,\n",
       "         -6.87987963e-03,   5.45373261e-02],\n",
       "       [  1.01171875e+00,   1.23838007e+00,   4.66332495e-01,\n",
       "          3.17871105e-03,  -1.04882810e-02,   6.44701766e-03,\n",
       "         -3.17871035e-03,   5.27326800e-02],\n",
       "       [  7.33203125e+00,   1.14755702e+00,   4.35461164e-01,\n",
       "         -4.87365760e-04,  -7.88085908e-03,  -4.57146252e-03,\n",
       "          4.87362093e-04,   4.47173491e-02],\n",
       "       [  3.57187500e+01,   1.14554274e+00,   3.97668123e-01,\n",
       "         -5.34362800e-04,   5.91308577e-03,   3.45720048e-03,\n",
       "         -5.34359540e-04,   1.08034730e-01],\n",
       "       [  0.00000000e+00,   0.00000000e+00,   0.00000000e+00,\n",
       "          0.00000000e+00,   0.00000000e+00,   0.00000000e+00,\n",
       "          0.00000000e+00,   0.00000000e+00],\n",
       "       [  0.00000000e+00,   0.00000000e+00,   0.00000000e+00,\n",
       "          0.00000000e+00,   0.00000000e+00,   0.00000000e+00,\n",
       "          0.00000000e+00,   0.00000000e+00],\n",
       "       [  0.00000000e+00,   0.00000000e+00,   0.00000000e+00,\n",
       "          0.00000000e+00,   0.00000000e+00,   0.00000000e+00,\n",
       "          0.00000000e+00,   0.00000000e+00],\n",
       "       [  0.00000000e+00,   0.00000000e+00,   0.00000000e+00,\n",
       "          0.00000000e+00,   0.00000000e+00,   0.00000000e+00,\n",
       "          0.00000000e+00,   0.00000000e+00],\n",
       "       [  0.00000000e+00,   0.00000000e+00,   0.00000000e+00,\n",
       "          0.00000000e+00,   0.00000000e+00,   0.00000000e+00,\n",
       "          0.00000000e+00,   0.00000000e+00],\n",
       "       [  0.00000000e+00,   0.00000000e+00,   0.00000000e+00,\n",
       "          0.00000000e+00,   0.00000000e+00,   0.00000000e+00,\n",
       "          0.00000000e+00,   0.00000000e+00]])"
      ]
     },
     "execution_count": 73,
     "metadata": {},
     "output_type": "execute_result"
    }
   ],
   "source": [
    "tracks_reconstructed[5]"
   ]
  },
  {
   "cell_type": "code",
   "execution_count": null,
   "metadata": {
    "collapsed": true
   },
   "outputs": [],
   "source": []
  }
 ],
 "metadata": {
  "anaconda-cloud": {},
  "kernelspec": {
   "display_name": "Python [conda root]",
   "language": "python",
   "name": "conda-root-py"
  },
  "language_info": {
   "codemirror_mode": {
    "name": "ipython",
    "version": 2
   },
   "file_extension": ".py",
   "mimetype": "text/x-python",
   "name": "python",
   "nbconvert_exporter": "python",
   "pygments_lexer": "ipython2",
   "version": "2.7.12"
  }
 },
 "nbformat": 4,
 "nbformat_minor": 1
}
