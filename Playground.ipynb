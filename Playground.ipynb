{
 "cells": [
  {
   "cell_type": "code",
   "execution_count": 1,
   "metadata": {
    "collapsed": false
   },
   "outputs": [
    {
     "data": {
      "application/javascript": [
       "require(['codemirror/mode/clike/clike'], function(Clike) { console.log('ROOTaaS - C++ CodeMirror module loaded'); });"
      ]
     },
     "metadata": {},
     "output_type": "display_data"
    },
    {
     "data": {
      "application/javascript": [
       "IPython.CodeCell.config_defaults.highlight_modes['magic_text/x-c++src'] = {'reg':[/^%%cpp/]};"
      ]
     },
     "metadata": {},
     "output_type": "display_data"
    },
    {
     "name": "stdout",
     "output_type": "stream",
     "text": [
      "Welcome to ROOTaaS 6.06/08\n"
     ]
    }
   ],
   "source": [
    "import ROOT\n",
    "import root_numpy as rnpy\n",
    "import pandas as pd\n",
    "import numpy as np\n",
    "%matplotlib inline\n",
    "import matplotlib.pyplot as plt\n",
    "import seaborn\n",
    "import pickle"
   ]
  },
  {
   "cell_type": "code",
   "execution_count": 102,
   "metadata": {
    "collapsed": true
   },
   "outputs": [],
   "source": [
    "batch_size_jets = 25\n",
    "batch_size_tracks = 25\n",
    "read_pos_jets = 0\n",
    "read_pos_tracks = 0"
   ]
  },
  {
   "cell_type": "code",
   "execution_count": 103,
   "metadata": {
    "collapsed": false
   },
   "outputs": [],
   "source": [
    "d1 = pd.DataFrame(rnpy.root2array(\"/mnt/t3nfs01/data01/shome/jpata/btv/gc/TagVarExtractor/GCa08e5e237323/TT_TuneCUETP8M1_13TeV-powheg-pythia8/job_0_out.root\",\n",
    "                                 treename = \"tagVars/ttree\", start = read_pos_jets, stop = read_pos_jets + batch_size_jets))"
   ]
  },
  {
   "cell_type": "code",
   "execution_count": 104,
   "metadata": {
    "collapsed": false
   },
   "outputs": [
    {
     "name": "stderr",
     "output_type": "stream",
     "text": [
      "/swshare/anaconda/lib/python2.7/site-packages/root_numpy/_tree.py:209: RuntimeWarning: ignoring duplicate branch named 'Track_nHitPixel'\n",
      "  warn_missing_tree)\n"
     ]
    }
   ],
   "source": [
    "d2 = pd.DataFrame(rnpy.root2array(\"/mnt/t3nfs01/data01/shome/jpata/btv/gc/TagVarExtractor/GCa08e5e237323/TT_TuneCUETP8M1_13TeV-powheg-pythia8/job_0_out.root\",\n",
    "                                 treename = \"tagVars/ttree_track\", start = read_pos_tracks, stop = read_pos_tracks + batch_size_tracks))"
   ]
  },
  {
   "cell_type": "code",
   "execution_count": 105,
   "metadata": {
    "collapsed": false
   },
   "outputs": [],
   "source": [
    "last_tracks = (int)(d2.tail(1)['Track_jetIndex'].iloc[0]-1)"
   ]
  },
  {
   "cell_type": "code",
   "execution_count": 106,
   "metadata": {
    "collapsed": false
   },
   "outputs": [],
   "source": [
    "last_jet = (int)(d1.tail(1)['Jet_jetIndex'].iloc[0]-1)"
   ]
  },
  {
   "cell_type": "code",
   "execution_count": 107,
   "metadata": {
    "collapsed": true
   },
   "outputs": [],
   "source": [
    "read_pos_jets += (d1.loc[d1['Jet_jetIndex'] == last_tracks].index[-1] + 1)\n",
    "read_pos_tracks += (d2.loc[d2['Track_jetIndex'] == last_tracks].index[-1] + 1)"
   ]
  },
  {
   "cell_type": "code",
   "execution_count": 108,
   "metadata": {
    "collapsed": true
   },
   "outputs": [],
   "source": [
    "d1['track_data'] = pd.np.empty((len(d1.index), 0)).tolist()"
   ]
  },
  {
   "cell_type": "code",
   "execution_count": 109,
   "metadata": {
    "collapsed": false
   },
   "outputs": [],
   "source": [
    "# iterate over the track list to join jets with the tracks belonging to them\n",
    "for irow, row in d2.iterrows():\n",
    "    # these are the track data of the current track:\n",
    "    tracks = row[[\"Track_pt\", \"Track_eta\", \"Track_phi\", \"Track_dxy\", \"Track_dz\", \"Track_IP\", \"Track_IP2D\", \"Track_length\"]].as_matrix()\n",
    "    jet_index = int(row[\"Track_jetIndex\"])\n",
    "    if jet_index > last_tracks:\n",
    "        break\n",
    "    table_index = d1.loc[d1['Jet_jetIndex'] == jet_index].index[0]\n",
    "    \n",
    "    # append the tracks data to the matching jet in the main table\n",
    "    d1['track_data'][table_index].append(tracks)"
   ]
  },
  {
   "cell_type": "code",
   "execution_count": 4,
   "metadata": {
    "collapsed": true
   },
   "outputs": [],
   "source": [
    "def get_max_tracks(data):\n",
    "    retval = 0\n",
    "    for cur in data['track_data']:\n",
    "        if len(cur) > retval:\n",
    "            retval = len(cur)\n",
    "    return retval"
   ]
  },
  {
   "cell_type": "code",
   "execution_count": 5,
   "metadata": {
    "collapsed": false
   },
   "outputs": [],
   "source": [
    "def equalize_tracks(data, set_tracks):\n",
    "    empty = np.full(8, 0, float)\n",
    "    for idx, cur in enumerate(data['track_data']):\n",
    "        # take only these that are non-empty track lists\n",
    "        if(len(cur) > 0):\n",
    "            for i in range(set_tracks - len(cur)):\n",
    "                data['track_data'][idx].append(empty)"
   ]
  },
  {
   "cell_type": "code",
   "execution_count": 12,
   "metadata": {
    "collapsed": true
   },
   "outputs": [],
   "source": [
    "def create_track_columns(set_tracks, number_parameters):\n",
    "    colnames = []\n",
    "    for i in range(set_tracks * number_parameters):\n",
    "        colnames.append('T' + str(i))\n",
    "    return colnames"
   ]
  },
  {
   "cell_type": "code",
   "execution_count": 13,
   "metadata": {
    "collapsed": false
   },
   "outputs": [],
   "source": [
    "def create_track_table(data):\n",
    "    set_tracks = len(data['track_data'][0])\n",
    "    number_parameters = len(data['track_data'][0][0])\n",
    "    \n",
    "    tracks = []\n",
    "    colnames = create_track_columns(set_tracks, number_parameters)\n",
    "    \n",
    "    for cur in data['track_data']:\n",
    "        arr = np.array(cur)\n",
    "        tracks.append(arr.flatten())\n",
    "        \n",
    "    return pd.DataFrame(tracks, columns=colnames)"
   ]
  },
  {
   "cell_type": "code",
   "execution_count": 14,
   "metadata": {
    "collapsed": true
   },
   "outputs": [],
   "source": [
    "def create_track_list(table, set_tracks, number_parameters):\n",
    "    number_jets = len(table)\n",
    "    cols = create_track_columns(set_tracks, number_parameters)\n",
    "\n",
    "    # extract raw matrix\n",
    "    tracks = table.ix[:,cols].as_matrix()\n",
    "    return tracks.reshape(number_jets, -1, number_parameters)"
   ]
  },
  {
   "cell_type": "code",
   "execution_count": 3,
   "metadata": {
    "collapsed": true
   },
   "outputs": [],
   "source": [
    "set_tracks = 10\n",
    "number_parameters = 8"
   ]
  },
  {
   "cell_type": "code",
   "execution_count": 153,
   "metadata": {
    "collapsed": false
   },
   "outputs": [],
   "source": [
    "equalize_tracks(matched, set_tracks)"
   ]
  },
  {
   "cell_type": "code",
   "execution_count": 23,
   "metadata": {
    "collapsed": false
   },
   "outputs": [],
   "source": [
    "track_table = create_track_table(d1)"
   ]
  },
  {
   "cell_type": "code",
   "execution_count": 24,
   "metadata": {
    "collapsed": false
   },
   "outputs": [],
   "source": [
    "joined = pd.concat([d1.ix[:,0:-1], track_table], axis = 1)"
   ]
  },
  {
   "cell_type": "code",
   "execution_count": 25,
   "metadata": {
    "collapsed": false
   },
   "outputs": [],
   "source": [
    "tracks_reconstructed = create_track_list(joined, set_tracks, number_parameters)"
   ]
  },
  {
   "cell_type": "code",
   "execution_count": 146,
   "metadata": {
    "collapsed": false
   },
   "outputs": [],
   "source": [
    "matched = d1.loc[d1['Jet_jetIndex'] < 30]"
   ]
  },
  {
   "cell_type": "code",
   "execution_count": 150,
   "metadata": {
    "collapsed": true
   },
   "outputs": [],
   "source": [
    "matched = matched.loc[lengths > 0]"
   ]
  },
  {
   "cell_type": "code",
   "execution_count": 152,
   "metadata": {
    "collapsed": false
   },
   "outputs": [
    {
     "data": {
      "text/html": [
       "<div>\n",
       "<table border=\"1\" class=\"dataframe\">\n",
       "  <thead>\n",
       "    <tr style=\"text-align: right;\">\n",
       "      <th></th>\n",
       "      <th>Jet_jetIndex</th>\n",
       "      <th>Jet_pt</th>\n",
       "      <th>Jet_genpt</th>\n",
       "      <th>Jet_eta</th>\n",
       "      <th>Jet_phi</th>\n",
       "      <th>Jet_mass</th>\n",
       "      <th>Jet_flavour</th>\n",
       "      <th>Jet_nbHadrons</th>\n",
       "      <th>Jet_JP</th>\n",
       "      <th>Jet_JBP</th>\n",
       "      <th>...</th>\n",
       "      <th>TagVarCSV_trackJetDist_3</th>\n",
       "      <th>TagVarCSV_trackDecayLenVal_0</th>\n",
       "      <th>TagVarCSV_trackDecayLenVal_1</th>\n",
       "      <th>TagVarCSV_trackDecayLenVal_2</th>\n",
       "      <th>TagVarCSV_trackDecayLenVal_3</th>\n",
       "      <th>TagVarCSV_trackEtaRel_0</th>\n",
       "      <th>TagVarCSV_trackEtaRel_1</th>\n",
       "      <th>TagVarCSV_trackEtaRel_2</th>\n",
       "      <th>TagVarCSV_trackEtaRel_3</th>\n",
       "      <th>track_data</th>\n",
       "    </tr>\n",
       "  </thead>\n",
       "  <tbody>\n",
       "    <tr>\n",
       "      <th>0</th>\n",
       "      <td>0</td>\n",
       "      <td>182.438431</td>\n",
       "      <td>163.630890</td>\n",
       "      <td>-0.237132</td>\n",
       "      <td>-2.236427</td>\n",
       "      <td>16.854450</td>\n",
       "      <td>-4.0</td>\n",
       "      <td>0.0</td>\n",
       "      <td>0.880459</td>\n",
       "      <td>3.552757</td>\n",
       "      <td>...</td>\n",
       "      <td>-99.000000</td>\n",
       "      <td>1.934348</td>\n",
       "      <td>0.011753</td>\n",
       "      <td>0.026479</td>\n",
       "      <td>-99.000000</td>\n",
       "      <td>4.764413</td>\n",
       "      <td>3.611055</td>\n",
       "      <td>3.247250</td>\n",
       "      <td>-99.000000</td>\n",
       "      <td>[[17.8906, -0.222114, -2.24089, 0.02125, -0.02...</td>\n",
       "    </tr>\n",
       "    <tr>\n",
       "      <th>1</th>\n",
       "      <td>1</td>\n",
       "      <td>67.666817</td>\n",
       "      <td>48.347958</td>\n",
       "      <td>1.526484</td>\n",
       "      <td>1.863574</td>\n",
       "      <td>11.641233</td>\n",
       "      <td>2.0</td>\n",
       "      <td>0.0</td>\n",
       "      <td>0.504102</td>\n",
       "      <td>2.620981</td>\n",
       "      <td>...</td>\n",
       "      <td>-0.002323</td>\n",
       "      <td>0.020211</td>\n",
       "      <td>0.819694</td>\n",
       "      <td>0.020396</td>\n",
       "      <td>2.094727</td>\n",
       "      <td>3.716417</td>\n",
       "      <td>4.664929</td>\n",
       "      <td>-99.000000</td>\n",
       "      <td>-99.000000</td>\n",
       "      <td>[[2.16211, 1.84118, 1.70083, 0.0012561, -0.052...</td>\n",
       "    </tr>\n",
       "    <tr>\n",
       "      <th>2</th>\n",
       "      <td>2</td>\n",
       "      <td>67.311432</td>\n",
       "      <td>75.550545</td>\n",
       "      <td>1.085625</td>\n",
       "      <td>-0.154507</td>\n",
       "      <td>11.436769</td>\n",
       "      <td>5.0</td>\n",
       "      <td>1.0</td>\n",
       "      <td>1.383020</td>\n",
       "      <td>6.356793</td>\n",
       "      <td>...</td>\n",
       "      <td>-99.000000</td>\n",
       "      <td>1.709969</td>\n",
       "      <td>3.066908</td>\n",
       "      <td>0.376480</td>\n",
       "      <td>-99.000000</td>\n",
       "      <td>4.372991</td>\n",
       "      <td>5.275004</td>\n",
       "      <td>3.397882</td>\n",
       "      <td>3.878511</td>\n",
       "      <td>[[2.53906, 1.15928, -0.062994, -0.015498, -0.0...</td>\n",
       "    </tr>\n",
       "  </tbody>\n",
       "</table>\n",
       "<p>3 rows × 69 columns</p>\n",
       "</div>"
      ],
      "text/plain": [
       "   Jet_jetIndex      Jet_pt   Jet_genpt   Jet_eta   Jet_phi   Jet_mass  \\\n",
       "0             0  182.438431  163.630890 -0.237132 -2.236427  16.854450   \n",
       "1             1   67.666817   48.347958  1.526484  1.863574  11.641233   \n",
       "2             2   67.311432   75.550545  1.085625 -0.154507  11.436769   \n",
       "\n",
       "   Jet_flavour  Jet_nbHadrons    Jet_JP   Jet_JBP  \\\n",
       "0         -4.0            0.0  0.880459  3.552757   \n",
       "1          2.0            0.0  0.504102  2.620981   \n",
       "2          5.0            1.0  1.383020  6.356793   \n",
       "\n",
       "                         ...                          \\\n",
       "0                        ...                           \n",
       "1                        ...                           \n",
       "2                        ...                           \n",
       "\n",
       "   TagVarCSV_trackJetDist_3  TagVarCSV_trackDecayLenVal_0  \\\n",
       "0                -99.000000                      1.934348   \n",
       "1                 -0.002323                      0.020211   \n",
       "2                -99.000000                      1.709969   \n",
       "\n",
       "   TagVarCSV_trackDecayLenVal_1  TagVarCSV_trackDecayLenVal_2  \\\n",
       "0                      0.011753                      0.026479   \n",
       "1                      0.819694                      0.020396   \n",
       "2                      3.066908                      0.376480   \n",
       "\n",
       "   TagVarCSV_trackDecayLenVal_3  TagVarCSV_trackEtaRel_0  \\\n",
       "0                    -99.000000                 4.764413   \n",
       "1                      2.094727                 3.716417   \n",
       "2                    -99.000000                 4.372991   \n",
       "\n",
       "   TagVarCSV_trackEtaRel_1  TagVarCSV_trackEtaRel_2  TagVarCSV_trackEtaRel_3  \\\n",
       "0                 3.611055                 3.247250               -99.000000   \n",
       "1                 4.664929               -99.000000               -99.000000   \n",
       "2                 5.275004                 3.397882                 3.878511   \n",
       "\n",
       "                                          track_data  \n",
       "0  [[17.8906, -0.222114, -2.24089, 0.02125, -0.02...  \n",
       "1  [[2.16211, 1.84118, 1.70083, 0.0012561, -0.052...  \n",
       "2  [[2.53906, 1.15928, -0.062994, -0.015498, -0.0...  \n",
       "\n",
       "[3 rows x 69 columns]"
      ]
     },
     "execution_count": 152,
     "metadata": {},
     "output_type": "execute_result"
    }
   ],
   "source": [
    "matched"
   ]
  },
  {
   "cell_type": "code",
   "execution_count": 143,
   "metadata": {
    "collapsed": false
   },
   "outputs": [
    {
     "ename": "ValueError",
     "evalue": "The truth value of a Series is ambiguous. Use a.empty, a.bool(), a.item(), a.any() or a.all().",
     "output_type": "error",
     "traceback": [
      "\u001b[0;31m\u001b[0m",
      "\u001b[0;31mValueError\u001b[0mTraceback (most recent call last)",
      "\u001b[0;32m<ipython-input-143-649b1ca71235>\u001b[0m in \u001b[0;36m<module>\u001b[0;34m()\u001b[0m\n\u001b[0;32m----> 1\u001b[0;31m \u001b[0md1\u001b[0m\u001b[0;34m[\u001b[0m\u001b[0;34m'Jet_jetIndex'\u001b[0m\u001b[0;34m]\u001b[0m \u001b[0;34m<\u001b[0m \u001b[0;36m30\u001b[0m \u001b[0;32mand\u001b[0m \u001b[0mlengths\u001b[0m \u001b[0;34m<\u001b[0m \u001b[0;36m4\u001b[0m\u001b[0;34m\u001b[0m\u001b[0m\n\u001b[0m",
      "\u001b[0;32m/swshare/anaconda/lib/python2.7/site-packages/pandas/core/generic.py\u001b[0m in \u001b[0;36m__nonzero__\u001b[0;34m(self)\u001b[0m\n\u001b[1;32m    890\u001b[0m         raise ValueError(\"The truth value of a {0} is ambiguous. \"\n\u001b[1;32m    891\u001b[0m                          \u001b[0;34m\"Use a.empty, a.bool(), a.item(), a.any() or a.all().\"\u001b[0m\u001b[0;34m\u001b[0m\u001b[0m\n\u001b[0;32m--> 892\u001b[0;31m                          .format(self.__class__.__name__))\n\u001b[0m\u001b[1;32m    893\u001b[0m \u001b[0;34m\u001b[0m\u001b[0m\n\u001b[1;32m    894\u001b[0m     \u001b[0m__bool__\u001b[0m \u001b[0;34m=\u001b[0m \u001b[0m__nonzero__\u001b[0m\u001b[0;34m\u001b[0m\u001b[0m\n",
      "\u001b[0;31mValueError\u001b[0m: The truth value of a Series is ambiguous. Use a.empty, a.bool(), a.item(), a.any() or a.all()."
     ]
    }
   ],
   "source": [
    "d1['Jet_jetIndex'] < 30 and lengths < 4"
   ]
  },
  {
   "cell_type": "code",
   "execution_count": 148,
   "metadata": {
    "collapsed": false
   },
   "outputs": [],
   "source": [
    "lengths = np.array(map(len, matched['track_data']))"
   ]
  },
  {
   "cell_type": "code",
   "execution_count": 149,
   "metadata": {
    "collapsed": false
   },
   "outputs": [
    {
     "data": {
      "text/plain": [
       "array([False, False, False,  True,  True,  True,  True,  True,  True,\n",
       "        True,  True,  True,  True,  True,  True,  True,  True,  True,\n",
       "        True,  True,  True,  True,  True,  True,  True], dtype=bool)"
      ]
     },
     "execution_count": 149,
     "metadata": {},
     "output_type": "execute_result"
    }
   ],
   "source": [
    "lengths < 4"
   ]
  },
  {
   "cell_type": "code",
   "execution_count": 131,
   "metadata": {
    "collapsed": true
   },
   "outputs": [],
   "source": [
    "def save_dataset(file, data):\n",
    "    store = pd.HDFStore(file)\n",
    "    store.put('data', data, format = 'table')\n",
    "    store.close()"
   ]
  },
  {
   "cell_type": "code",
   "execution_count": 517,
   "metadata": {
    "collapsed": false
   },
   "outputs": [],
   "source": [
    "save_dataset('./padded_test.h5', joined)"
   ]
  },
  {
   "cell_type": "code",
   "execution_count": 38,
   "metadata": {
    "collapsed": false
   },
   "outputs": [],
   "source": [
    "# now divide the jets and put them in separate lists, according to their flavour\n",
    "jets_b = []\n",
    "jets_l = []\n",
    "jets_c = []\n",
    "\n",
    "# iterate over the jet list, with already matched tracks\n",
    "for irow, row in d1.iterrows():\n",
    "    jet_index = int(row[\"Jet_jetIndex\"])\n",
    "    if jet_index > last_tracks:\n",
    "        break\n",
    "    \n",
    "    flavour = int(row[\"Jet_flavour\"])\n",
    "    \n",
    "    # select the right list this jet belongs to\n",
    "    if abs(flavour) == 5:\n",
    "        jets = jets_b\n",
    "    elif abs(flavour) == 4:\n",
    "        jets = jets_c\n",
    "    else:\n",
    "        jets = jets_l\n",
    "        \n",
    "    # add the new jet to the list\n",
    "    jets += [(row[\"Jet_pt\"], row[\"Jet_eta\"], row[\"Jet_phi\"], row[\"Jet_mass\"], flavour, row[\"track_data\"])]"
   ]
  },
  {
   "cell_type": "code",
   "execution_count": 6,
   "metadata": {
    "collapsed": true
   },
   "outputs": [],
   "source": [
    "def read_metadata(store):\n",
    "    return store.get_storer('data').attrs.metadata"
   ]
  },
  {
   "cell_type": "code",
   "execution_count": 7,
   "metadata": {
    "collapsed": false
   },
   "outputs": [],
   "source": [
    "with pd.HDFStore('/shome/phwindis/data/matched/1.h5') as store:\n",
    "    metadata = read_metadata(store)\n",
    "number_tracks = metadata['number_tracks']"
   ]
  },
  {
   "cell_type": "code",
   "execution_count": 8,
   "metadata": {
    "collapsed": false
   },
   "outputs": [
    {
     "data": {
      "text/plain": [
       "{'number_jets': 214946, 'number_tracks': 33}"
      ]
     },
     "execution_count": 8,
     "metadata": {},
     "output_type": "execute_result"
    }
   ],
   "source": [
    "metadata"
   ]
  },
  {
   "cell_type": "code",
   "execution_count": 9,
   "metadata": {
    "collapsed": false
   },
   "outputs": [],
   "source": [
    "readin = pd.read_hdf('/shome/phwindis/data/matched/1.h5', start = 0, stop = 100)"
   ]
  },
  {
   "cell_type": "code",
   "execution_count": 94,
   "metadata": {
    "collapsed": false
   },
   "outputs": [],
   "source": [
    "tracks_reconstructed = create_track_list(readin, 10, number_parameters)"
   ]
  },
  {
   "cell_type": "code",
   "execution_count": 49,
   "metadata": {
    "collapsed": false
   },
   "outputs": [
    {
     "data": {
      "text/plain": [
       "2"
      ]
     },
     "execution_count": 49,
     "metadata": {},
     "output_type": "execute_result"
    }
   ],
   "source": [
    "len(parameters_selected)"
   ]
  },
  {
   "cell_type": "code",
   "execution_count": null,
   "metadata": {
    "collapsed": true
   },
   "outputs": [],
   "source": [
    "# (jets, tracks, track_parameters)"
   ]
  },
  {
   "cell_type": "code",
   "execution_count": 124,
   "metadata": {
    "collapsed": false
   },
   "outputs": [],
   "source": [
    "def create_track_list(table, set_tracks, parameters_requested, tracks_requested, ordered = False):\n",
    "    # number of jet parameters: always eight                                                                       \n",
    "    number_parameters = 8\n",
    "    number_jets = len(table)\n",
    "\n",
    "    # extract ALL the jet track columns present in the datafile                                                    \n",
    "    cols = create_track_columns(set_tracks, number_parameters)\n",
    "\n",
    "    # extract raw matrix                                                                                           \n",
    "    tracks = table.ix[:,cols].as_matrix()\n",
    "    tracks = tracks.reshape(number_jets, -1, number_parameters)\n",
    "\n",
    "    # pt-order the tracks here, if demanded                                                                        \n",
    "    if ordered:\n",
    "        tracks = np.array([sorted(cur, key = lambda tracks: tracks[0], reverse = True) for cur in tracks])\n",
    "\n",
    "    # return only the wanted tracks, parameters                                                                    \n",
    "    retval = tracks[:, tracks_requested, :]\n",
    "    retval = retval[:, :, parameters_requested]\n",
    "    return retval"
   ]
  },
  {
   "cell_type": "code",
   "execution_count": 168,
   "metadata": {
    "collapsed": false
   },
   "outputs": [],
   "source": [
    "jet_parameters_requested = np.array([0,1,7])\n",
    "tracks_requested = np.arange(3)"
   ]
  },
  {
   "cell_type": "code",
   "execution_count": 169,
   "metadata": {
    "collapsed": false
   },
   "outputs": [],
   "source": [
    "out = create_track_list(readin, number_tracks, jet_parameters_requested, tracks_requested, ordered = True)"
   ]
  },
  {
   "cell_type": "code",
   "execution_count": 162,
   "metadata": {
    "collapsed": false
   },
   "outputs": [],
   "source": [
    "dic = dict([('test', tracks_requested)])"
   ]
  },
  {
   "cell_type": "code",
   "execution_count": 165,
   "metadata": {
    "collapsed": false
   },
   "outputs": [],
   "source": [
    "for i in range(0):\n",
    "    print(i)"
   ]
  },
  {
   "cell_type": "code",
   "execution_count": 155,
   "metadata": {
    "collapsed": false
   },
   "outputs": [],
   "source": [
    "test = ['1','2','3','4']"
   ]
  },
  {
   "cell_type": "code",
   "execution_count": 160,
   "metadata": {
    "collapsed": false
   },
   "outputs": [
    {
     "name": "stdout",
     "output_type": "stream",
     "text": [
      "3\n",
      "4\n"
     ]
    }
   ],
   "source": [
    "for i in test[2:]:\n",
    "    print(i)"
   ]
  },
  {
   "cell_type": "code",
   "execution_count": 26,
   "metadata": {
    "collapsed": true
   },
   "outputs": [],
   "source": [
    "tracks_sorted = np.array([sorted(cur, key = lambda tracks: tracks[0], reverse = True) for cur in tracks_reconstructed])"
   ]
  },
  {
   "cell_type": "code",
   "execution_count": 161,
   "metadata": {
    "collapsed": false
   },
   "outputs": [
    {
     "ename": "AttributeError",
     "evalue": "'numpy.ndarray' object has no attribute 'append'",
     "output_type": "error",
     "traceback": [
      "\u001b[0;31m\u001b[0m",
      "\u001b[0;31mAttributeError\u001b[0mTraceback (most recent call last)",
      "\u001b[0;32m<ipython-input-161-33ad6bbf4578>\u001b[0m in \u001b[0;36m<module>\u001b[0;34m()\u001b[0m\n\u001b[1;32m      1\u001b[0m \u001b[0mtest\u001b[0m \u001b[0;34m=\u001b[0m \u001b[0mnp\u001b[0m\u001b[0;34m.\u001b[0m\u001b[0mrandom\u001b[0m\u001b[0;34m.\u001b[0m\u001b[0mrand\u001b[0m\u001b[0;34m(\u001b[0m\u001b[0;36m3\u001b[0m\u001b[0;34m)\u001b[0m\u001b[0;34m\u001b[0m\u001b[0m\n\u001b[0;32m----> 2\u001b[0;31m \u001b[0mtest\u001b[0m\u001b[0;34m.\u001b[0m\u001b[0mappend\u001b[0m\u001b[0;34m(\u001b[0m\u001b[0;36m3\u001b[0m\u001b[0;34m)\u001b[0m\u001b[0;34m\u001b[0m\u001b[0m\n\u001b[0m",
      "\u001b[0;31mAttributeError\u001b[0m: 'numpy.ndarray' object has no attribute 'append'"
     ]
    }
   ],
   "source": [
    "test = np.random.rand(3)\n",
    "test.append(3)"
   ]
  },
  {
   "cell_type": "code",
   "execution_count": 154,
   "metadata": {
    "collapsed": true
   },
   "outputs": [],
   "source": [
    "ind = np.array([1,0,1])"
   ]
  },
  {
   "cell_type": "code",
   "execution_count": 157,
   "metadata": {
    "collapsed": false
   },
   "outputs": [
    {
     "data": {
      "text/plain": [
       "array([ 0.61414504])"
      ]
     },
     "execution_count": 157,
     "metadata": {},
     "output_type": "execute_result"
    }
   ],
   "source": [
    "test[ind == 0]"
   ]
  },
  {
   "cell_type": "code",
   "execution_count": 88,
   "metadata": {
    "collapsed": false
   },
   "outputs": [],
   "source": [
    "flavours = np.array(abs(readin['Jet_flavour']) == 5)"
   ]
  },
  {
   "cell_type": "code",
   "execution_count": 89,
   "metadata": {
    "collapsed": false
   },
   "outputs": [
    {
     "data": {
      "text/plain": [
       "array([0, 1, 1, 0, 0, 1, 1, 0, 0, 0, 1, 1, 0, 0, 0, 0, 0, 0, 1, 0, 0, 1, 0,\n",
       "       0, 0, 0, 0, 0, 0, 1, 0, 0, 1, 0, 0, 0, 0, 0, 1, 0, 1, 0, 0, 1, 0, 1,\n",
       "       0, 0, 0, 0, 0, 1, 0, 0, 0, 1, 1, 0, 0, 1, 0, 1, 1, 1, 1, 0, 0, 0, 1,\n",
       "       0, 1, 0, 0, 1, 1, 0, 1, 0, 0, 0, 1, 0, 0, 0, 0, 1, 0, 0, 0, 1, 0, 0,\n",
       "       0, 0, 0, 1, 0, 0, 1, 0])"
      ]
     },
     "execution_count": 89,
     "metadata": {},
     "output_type": "execute_result"
    }
   ],
   "source": [
    "np.array(flavours) * 1"
   ]
  },
  {
   "cell_type": "code",
   "execution_count": 90,
   "metadata": {
    "collapsed": false
   },
   "outputs": [],
   "source": [
    "flavours = flavours * 1"
   ]
  },
  {
   "cell_type": "code",
   "execution_count": 91,
   "metadata": {
    "collapsed": false
   },
   "outputs": [
    {
     "data": {
      "text/plain": [
       "array([[0],\n",
       "       [1],\n",
       "       [1],\n",
       "       [0],\n",
       "       [0],\n",
       "       [1],\n",
       "       [1],\n",
       "       [0],\n",
       "       [0],\n",
       "       [0],\n",
       "       [1],\n",
       "       [1],\n",
       "       [0],\n",
       "       [0],\n",
       "       [0],\n",
       "       [0],\n",
       "       [0],\n",
       "       [0],\n",
       "       [1],\n",
       "       [0],\n",
       "       [0],\n",
       "       [1],\n",
       "       [0],\n",
       "       [0],\n",
       "       [0],\n",
       "       [0],\n",
       "       [0],\n",
       "       [0],\n",
       "       [0],\n",
       "       [1],\n",
       "       [0],\n",
       "       [0],\n",
       "       [1],\n",
       "       [0],\n",
       "       [0],\n",
       "       [0],\n",
       "       [0],\n",
       "       [0],\n",
       "       [1],\n",
       "       [0],\n",
       "       [1],\n",
       "       [0],\n",
       "       [0],\n",
       "       [1],\n",
       "       [0],\n",
       "       [1],\n",
       "       [0],\n",
       "       [0],\n",
       "       [0],\n",
       "       [0],\n",
       "       [0],\n",
       "       [1],\n",
       "       [0],\n",
       "       [0],\n",
       "       [0],\n",
       "       [1],\n",
       "       [1],\n",
       "       [0],\n",
       "       [0],\n",
       "       [1],\n",
       "       [0],\n",
       "       [1],\n",
       "       [1],\n",
       "       [1],\n",
       "       [1],\n",
       "       [0],\n",
       "       [0],\n",
       "       [0],\n",
       "       [1],\n",
       "       [0],\n",
       "       [1],\n",
       "       [0],\n",
       "       [0],\n",
       "       [1],\n",
       "       [1],\n",
       "       [0],\n",
       "       [1],\n",
       "       [0],\n",
       "       [0],\n",
       "       [0],\n",
       "       [1],\n",
       "       [0],\n",
       "       [0],\n",
       "       [0],\n",
       "       [0],\n",
       "       [1],\n",
       "       [0],\n",
       "       [0],\n",
       "       [0],\n",
       "       [1],\n",
       "       [0],\n",
       "       [0],\n",
       "       [0],\n",
       "       [0],\n",
       "       [0],\n",
       "       [1],\n",
       "       [0],\n",
       "       [0],\n",
       "       [1],\n",
       "       [0]])"
      ]
     },
     "execution_count": 91,
     "metadata": {},
     "output_type": "execute_result"
    }
   ],
   "source": [
    "flavours.reshape((len(flavours),1))"
   ]
  },
  {
   "cell_type": "code",
   "execution_count": 98,
   "metadata": {
    "collapsed": false
   },
   "outputs": [
    {
     "data": {
      "text/plain": [
       "Jet_jetIndex                         14.000000\n",
       "Jet_pt                               84.502274\n",
       "Jet_genpt                            87.487740\n",
       "Jet_eta                              -2.325445\n",
       "Jet_phi                               1.617444\n",
       "Jet_mass                              8.225379\n",
       "Jet_flavour                          -2.000000\n",
       "Jet_nbHadrons                         0.000000\n",
       "Jet_JP                               -0.000000\n",
       "Jet_JBP                              -0.000000\n",
       "Jet_CSV                             -10.000000\n",
       "Jet_CSVIVF                          -10.000000\n",
       "Jet_cMVA                             -0.853212\n",
       "Jet_SoftMu                                -inf\n",
       "Jet_SoftEl                                -inf\n",
       "Jet_CTag_CvsL                         0.298788\n",
       "Jet_CTag_CvsB                        -0.288275\n",
       "Jet_nTracks                           0.000000\n",
       "TagVarCSV_jetNTracks                  0.000000\n",
       "TagVarCSV_jetNTracksEtaRel            0.000000\n",
       "TagVarCSV_trackSumJetEtRatio        -99.000000\n",
       "TagVarCSV_trackSumJetDeltaR         -99.000000\n",
       "TagVarCSV_trackSip2dValAboveCharm   -99.000000\n",
       "TagVarCSV_trackSip2dSigAboveCharm   -99.000000\n",
       "TagVarCSV_trackSip3dValAboveCharm   -99.000000\n",
       "TagVarCSV_trackSip3dSigAboveCharm   -99.000000\n",
       "TagVarCSV_vertexCategory            -99.000000\n",
       "TagVarCSV_jetNSecondaryVertices       0.000000\n",
       "TagVarCSV_vertexMass                -99.000000\n",
       "TagVarCSV_vertexNTracks               0.000000\n",
       "                                       ...    \n",
       "T346                                       NaN\n",
       "T347                                       NaN\n",
       "T348                                       NaN\n",
       "T349                                       NaN\n",
       "T350                                       NaN\n",
       "T351                                       NaN\n",
       "T352                                       NaN\n",
       "T353                                       NaN\n",
       "T354                                       NaN\n",
       "T355                                       NaN\n",
       "T356                                       NaN\n",
       "T357                                       NaN\n",
       "T358                                       NaN\n",
       "T359                                       NaN\n",
       "T360                                       NaN\n",
       "T361                                       NaN\n",
       "T362                                       NaN\n",
       "T363                                       NaN\n",
       "T364                                       NaN\n",
       "T365                                       NaN\n",
       "T366                                       NaN\n",
       "T367                                       NaN\n",
       "T368                                       NaN\n",
       "T369                                       NaN\n",
       "T370                                       NaN\n",
       "T371                                       NaN\n",
       "T372                                       NaN\n",
       "T373                                       NaN\n",
       "T374                                       NaN\n",
       "T375                                       NaN\n",
       "Name: 14, dtype: float64"
      ]
     },
     "execution_count": 98,
     "metadata": {},
     "output_type": "execute_result"
    }
   ],
   "source": [
    "readin.loc[14]"
   ]
  },
  {
   "cell_type": "code",
   "execution_count": 99,
   "metadata": {
    "collapsed": false
   },
   "outputs": [
    {
     "data": {
      "text/plain": [
       "array([[  2.52343750e+00,   1.57255781e+00,  -2.06553146e-01,\n",
       "         -3.70117184e-03,  -1.37695316e-02,   6.61189901e-03,\n",
       "          3.70117556e-03,   7.70495534e-02],\n",
       "       [  2.40039062e+00,   1.49821472e+00,  -2.27737248e-01,\n",
       "         -1.24084472e-03,   2.46093748e-03,  -1.62413588e-03,\n",
       "          1.24085054e-03,   2.07710937e-02],\n",
       "       [  2.59960938e+00,   1.22135079e+00,  -4.21110362e-01,\n",
       "          1.97998038e-03,   1.19238282e-02,   6.76507596e-03,\n",
       "          1.97998341e-03,   4.77084294e-02],\n",
       "       [  1.73339844e+00,   1.11038542e+00,  -4.61543173e-01,\n",
       "          4.85839881e-03,   6.30371086e-03,   6.13528350e-03,\n",
       "          4.85840114e-03,   3.04672290e-02],\n",
       "       [  0.00000000e+00,   0.00000000e+00,   0.00000000e+00,\n",
       "          0.00000000e+00,   0.00000000e+00,   0.00000000e+00,\n",
       "          0.00000000e+00,   0.00000000e+00],\n",
       "       [  0.00000000e+00,   0.00000000e+00,   0.00000000e+00,\n",
       "          0.00000000e+00,   0.00000000e+00,   0.00000000e+00,\n",
       "          0.00000000e+00,   0.00000000e+00],\n",
       "       [  0.00000000e+00,   0.00000000e+00,   0.00000000e+00,\n",
       "          0.00000000e+00,   0.00000000e+00,   0.00000000e+00,\n",
       "          0.00000000e+00,   0.00000000e+00],\n",
       "       [  0.00000000e+00,   0.00000000e+00,   0.00000000e+00,\n",
       "          0.00000000e+00,   0.00000000e+00,   0.00000000e+00,\n",
       "          0.00000000e+00,   0.00000000e+00],\n",
       "       [  0.00000000e+00,   0.00000000e+00,   0.00000000e+00,\n",
       "          0.00000000e+00,   0.00000000e+00,   0.00000000e+00,\n",
       "          0.00000000e+00,   0.00000000e+00],\n",
       "       [  0.00000000e+00,   0.00000000e+00,   0.00000000e+00,\n",
       "          0.00000000e+00,   0.00000000e+00,   0.00000000e+00,\n",
       "          0.00000000e+00,   0.00000000e+00]])"
      ]
     },
     "execution_count": 99,
     "metadata": {},
     "output_type": "execute_result"
    }
   ],
   "source": [
    "tracks_reconstructed[13]"
   ]
  },
  {
   "cell_type": "code",
   "execution_count": 73,
   "metadata": {
    "collapsed": false
   },
   "outputs": [
    {
     "data": {
      "text/plain": [
       "array([[  1.07324219e+00,   1.36088133e+00,   7.34601855e-01,\n",
       "          6.87988289e-03,   2.25781258e-02,  -1.28598604e-02,\n",
       "         -6.87987963e-03,   5.45373261e-02],\n",
       "       [  1.01171875e+00,   1.23838007e+00,   4.66332495e-01,\n",
       "          3.17871105e-03,  -1.04882810e-02,   6.44701766e-03,\n",
       "         -3.17871035e-03,   5.27326800e-02],\n",
       "       [  7.33203125e+00,   1.14755702e+00,   4.35461164e-01,\n",
       "         -4.87365760e-04,  -7.88085908e-03,  -4.57146252e-03,\n",
       "          4.87362093e-04,   4.47173491e-02],\n",
       "       [  3.57187500e+01,   1.14554274e+00,   3.97668123e-01,\n",
       "         -5.34362800e-04,   5.91308577e-03,   3.45720048e-03,\n",
       "         -5.34359540e-04,   1.08034730e-01],\n",
       "       [  0.00000000e+00,   0.00000000e+00,   0.00000000e+00,\n",
       "          0.00000000e+00,   0.00000000e+00,   0.00000000e+00,\n",
       "          0.00000000e+00,   0.00000000e+00],\n",
       "       [  0.00000000e+00,   0.00000000e+00,   0.00000000e+00,\n",
       "          0.00000000e+00,   0.00000000e+00,   0.00000000e+00,\n",
       "          0.00000000e+00,   0.00000000e+00],\n",
       "       [  0.00000000e+00,   0.00000000e+00,   0.00000000e+00,\n",
       "          0.00000000e+00,   0.00000000e+00,   0.00000000e+00,\n",
       "          0.00000000e+00,   0.00000000e+00],\n",
       "       [  0.00000000e+00,   0.00000000e+00,   0.00000000e+00,\n",
       "          0.00000000e+00,   0.00000000e+00,   0.00000000e+00,\n",
       "          0.00000000e+00,   0.00000000e+00],\n",
       "       [  0.00000000e+00,   0.00000000e+00,   0.00000000e+00,\n",
       "          0.00000000e+00,   0.00000000e+00,   0.00000000e+00,\n",
       "          0.00000000e+00,   0.00000000e+00],\n",
       "       [  0.00000000e+00,   0.00000000e+00,   0.00000000e+00,\n",
       "          0.00000000e+00,   0.00000000e+00,   0.00000000e+00,\n",
       "          0.00000000e+00,   0.00000000e+00]])"
      ]
     },
     "execution_count": 73,
     "metadata": {},
     "output_type": "execute_result"
    }
   ],
   "source": [
    "tracks_reconstructed[5]"
   ]
  },
  {
   "cell_type": "code",
   "execution_count": null,
   "metadata": {
    "collapsed": true
   },
   "outputs": [],
   "source": []
  }
 ],
 "metadata": {
  "anaconda-cloud": {},
  "kernelspec": {
   "display_name": "Python [conda root]",
   "language": "python",
   "name": "conda-root-py"
  },
  "language_info": {
   "codemirror_mode": {
    "name": "ipython",
    "version": 2
   },
   "file_extension": ".py",
   "mimetype": "text/x-python",
   "name": "python",
   "nbconvert_exporter": "python",
   "pygments_lexer": "ipython2",
   "version": "2.7.12"
  }
 },
 "nbformat": 4,
 "nbformat_minor": 1
}
