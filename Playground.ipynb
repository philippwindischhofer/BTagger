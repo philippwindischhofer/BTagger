{
 "cells": [
  {
   "cell_type": "code",
   "execution_count": 1,
   "metadata": {
    "collapsed": false
   },
   "outputs": [
    {
     "data": {
      "application/javascript": [
       "require(['codemirror/mode/clike/clike'], function(Clike) { console.log('ROOTaaS - C++ CodeMirror module loaded'); });"
      ]
     },
     "metadata": {},
     "output_type": "display_data"
    },
    {
     "data": {
      "application/javascript": [
       "IPython.CodeCell.config_defaults.highlight_modes['magic_text/x-c++src'] = {'reg':[/^%%cpp/]};"
      ]
     },
     "metadata": {},
     "output_type": "display_data"
    },
    {
     "name": "stdout",
     "output_type": "stream",
     "text": [
      "Welcome to ROOTaaS 6.06/08\n"
     ]
    }
   ],
   "source": [
    "import ROOT\n",
    "import root_numpy as rnpy\n",
    "import pandas as pd\n",
    "import numpy as np\n",
    "%matplotlib inline\n",
    "import matplotlib.pyplot as plt\n",
    "import seaborn\n",
    "import pickle"
   ]
  },
  {
   "cell_type": "code",
   "execution_count": 2,
   "metadata": {
    "collapsed": true
   },
   "outputs": [],
   "source": [
    "batch_size_jets = 25\n",
    "batch_size_tracks = 25\n",
    "read_pos_jets = 0\n",
    "read_pos_tracks = 0"
   ]
  },
  {
   "cell_type": "code",
   "execution_count": 3,
   "metadata": {
    "collapsed": false
   },
   "outputs": [],
   "source": [
    "d1 = pd.DataFrame(rnpy.root2array(\"/mnt/t3nfs01/data01/shome/jpata/btv/gc/TagVarExtractor/GCa08e5e237323/TT_TuneCUETP8M1_13TeV-powheg-pythia8/job_0_out.root\",\n",
    "                                 treename = \"tagVars/ttree\", start = read_pos_jets, stop = read_pos_jets + batch_size_jets))"
   ]
  },
  {
   "cell_type": "code",
   "execution_count": 4,
   "metadata": {
    "collapsed": false
   },
   "outputs": [
    {
     "name": "stderr",
     "output_type": "stream",
     "text": [
      "/swshare/anaconda/lib/python2.7/site-packages/root_numpy/_tree.py:209: RuntimeWarning: ignoring duplicate branch named 'Track_nHitPixel'\n",
      "  warn_missing_tree)\n"
     ]
    }
   ],
   "source": [
    "d2 = pd.DataFrame(rnpy.root2array(\"/mnt/t3nfs01/data01/shome/jpata/btv/gc/TagVarExtractor/GCa08e5e237323/TT_TuneCUETP8M1_13TeV-powheg-pythia8/job_0_out.root\",\n",
    "                                 treename = \"tagVars/ttree_track\", start = read_pos_tracks, stop = read_pos_tracks + batch_size_tracks))"
   ]
  },
  {
   "cell_type": "code",
   "execution_count": 5,
   "metadata": {
    "collapsed": false
   },
   "outputs": [],
   "source": [
    "last_tracks = (int)(d2.tail(1)['Track_jetIndex'].iloc[0]-1)"
   ]
  },
  {
   "cell_type": "code",
   "execution_count": 6,
   "metadata": {
    "collapsed": false
   },
   "outputs": [],
   "source": [
    "last_jet = (int)(d1.tail(1)['Jet_jetIndex'].iloc[0]-1)"
   ]
  },
  {
   "cell_type": "code",
   "execution_count": 7,
   "metadata": {
    "collapsed": true
   },
   "outputs": [],
   "source": [
    "read_pos_jets += (d1.loc[d1['Jet_jetIndex'] == last_tracks].index[-1] + 1)\n",
    "read_pos_tracks += (d2.loc[d2['Track_jetIndex'] == last_tracks].index[-1] + 1)"
   ]
  },
  {
   "cell_type": "code",
   "execution_count": 8,
   "metadata": {
    "collapsed": true
   },
   "outputs": [],
   "source": [
    "d1['track_data'] = pd.np.empty((len(d1.index), 0)).tolist()"
   ]
  },
  {
   "cell_type": "code",
   "execution_count": 9,
   "metadata": {
    "collapsed": false
   },
   "outputs": [],
   "source": [
    "# iterate over the track list to join jets with the tracks belonging to them\n",
    "for irow, row in d2.iterrows():\n",
    "    # these are the track data of the current track:\n",
    "    tracks = row[[\"Track_pt\", \"Track_eta\", \"Track_phi\", \"Track_dxy\", \"Track_dz\", \"Track_IP\", \"Track_IP2D\", \"Track_length\"]].as_matrix()\n",
    "    jet_index = int(row[\"Track_jetIndex\"])\n",
    "    if jet_index > last_tracks:\n",
    "        break\n",
    "    table_index = d1.loc[d1['Jet_jetIndex'] == jet_index].index[0]\n",
    "    \n",
    "    # append the tracks data to the matching jet in the main table\n",
    "    d1['track_data'][table_index].append(tracks)"
   ]
  },
  {
   "cell_type": "code",
   "execution_count": 10,
   "metadata": {
    "collapsed": true
   },
   "outputs": [],
   "source": [
    "def get_max_tracks(data):\n",
    "    retval = 0\n",
    "    for cur in data['track_data']:\n",
    "        if len(cur) > retval:\n",
    "            retval = len(cur)\n",
    "    return retval"
   ]
  },
  {
   "cell_type": "code",
   "execution_count": 11,
   "metadata": {
    "collapsed": false
   },
   "outputs": [],
   "source": [
    "def equalize_tracks(data, set_tracks):\n",
    "    empty = np.full(8, 0, float)\n",
    "    for idx, cur in enumerate(data['track_data']):\n",
    "        # take only these that are non-empty track lists\n",
    "        if(len(cur) > 0):\n",
    "            for i in range(set_tracks - len(cur)):\n",
    "                data['track_data'][idx].append(empty)"
   ]
  },
  {
   "cell_type": "code",
   "execution_count": 14,
   "metadata": {
    "collapsed": true
   },
   "outputs": [],
   "source": [
    "def create_track_columns(set_tracks, number_parameters):\n",
    "    colnames = []\n",
    "    for i in range(set_tracks * number_parameters):\n",
    "        colnames.append('T' + str(i))\n",
    "    return colnames"
   ]
  },
  {
   "cell_type": "code",
   "execution_count": 15,
   "metadata": {
    "collapsed": false
   },
   "outputs": [],
   "source": [
    "def create_track_table(data):\n",
    "    set_tracks = len(data['track_data'][0])\n",
    "    number_parameters = len(data['track_data'][0][0])\n",
    "    \n",
    "    tracks = []\n",
    "    colnames = create_track_columns(set_tracks, number_parameters)\n",
    "    \n",
    "    for cur in data['track_data']:\n",
    "        arr = np.array(cur)\n",
    "        tracks.append(arr.flatten())\n",
    "        \n",
    "    return pd.DataFrame(tracks, columns=colnames)"
   ]
  },
  {
   "cell_type": "code",
   "execution_count": 4,
   "metadata": {
    "collapsed": true
   },
   "outputs": [],
   "source": [
    "def create_track_list(table, set_tracks, number_parameters):\n",
    "    number_jets = len(table)\n",
    "    cols = create_track_columns(set_tracks, number_parameters)\n",
    "\n",
    "    # extract raw matrix\n",
    "    tracks = table.ix[:,cols].as_matrix()\n",
    "    return tracks.reshape(number_jets, -1, number_parameters)"
   ]
  },
  {
   "cell_type": "code",
   "execution_count": 12,
   "metadata": {
    "collapsed": true
   },
   "outputs": [],
   "source": [
    "set_tracks = 10\n",
    "number_parameters = 8"
   ]
  },
  {
   "cell_type": "code",
   "execution_count": 22,
   "metadata": {
    "collapsed": false
   },
   "outputs": [],
   "source": [
    "equalize_tracks(d1, set_tracks)"
   ]
  },
  {
   "cell_type": "code",
   "execution_count": 23,
   "metadata": {
    "collapsed": false
   },
   "outputs": [],
   "source": [
    "track_table = create_track_table(d1)"
   ]
  },
  {
   "cell_type": "code",
   "execution_count": 24,
   "metadata": {
    "collapsed": false
   },
   "outputs": [],
   "source": [
    "joined = pd.concat([d1.ix[:,0:-1], track_table], axis = 1)"
   ]
  },
  {
   "cell_type": "code",
   "execution_count": 25,
   "metadata": {
    "collapsed": false
   },
   "outputs": [],
   "source": [
    "tracks_reconstructed = create_track_list(joined, set_tracks, number_parameters)"
   ]
  },
  {
   "cell_type": "code",
   "execution_count": 42,
   "metadata": {
    "collapsed": false
   },
   "outputs": [],
   "source": [
    "matched = d1.loc[d1['Jet_jetIndex'] < 30]"
   ]
  },
  {
   "cell_type": "code",
   "execution_count": 131,
   "metadata": {
    "collapsed": true
   },
   "outputs": [],
   "source": [
    "def save_dataset(file, data):\n",
    "    store = pd.HDFStore(file)\n",
    "    store.put('data', data, format = 'table')\n",
    "    store.close()"
   ]
  },
  {
   "cell_type": "code",
   "execution_count": 517,
   "metadata": {
    "collapsed": false
   },
   "outputs": [],
   "source": [
    "save_dataset('./padded_test.h5', joined)"
   ]
  },
  {
   "cell_type": "code",
   "execution_count": 38,
   "metadata": {
    "collapsed": false
   },
   "outputs": [],
   "source": [
    "# now divide the jets and put them in separate lists, according to their flavour\n",
    "jets_b = []\n",
    "jets_l = []\n",
    "jets_c = []\n",
    "\n",
    "# iterate over the jet list, with already matched tracks\n",
    "for irow, row in d1.iterrows():\n",
    "    jet_index = int(row[\"Jet_jetIndex\"])\n",
    "    if jet_index > last_tracks:\n",
    "        break\n",
    "    \n",
    "    flavour = int(row[\"Jet_flavour\"])\n",
    "    \n",
    "    # select the right list this jet belongs to\n",
    "    if abs(flavour) == 5:\n",
    "        jets = jets_b\n",
    "    elif abs(flavour) == 4:\n",
    "        jets = jets_c\n",
    "    else:\n",
    "        jets = jets_l\n",
    "        \n",
    "    # add the new jet to the list\n",
    "    jets += [(row[\"Jet_pt\"], row[\"Jet_eta\"], row[\"Jet_phi\"], row[\"Jet_mass\"], flavour, row[\"track_data\"])]"
   ]
  },
  {
   "cell_type": "code",
   "execution_count": 7,
   "metadata": {
    "collapsed": true
   },
   "outputs": [],
   "source": [
    "def read_metadata(store):\n",
    "    return store.get_storer('data').attrs.metadata"
   ]
  },
  {
   "cell_type": "code",
   "execution_count": 8,
   "metadata": {
    "collapsed": false
   },
   "outputs": [],
   "source": [
    "with pd.HDFStore('/shome/phwindis/data/matched/1.h5') as store:\n",
    "    metadata = read_metadata(store)\n",
    "number_tracks = metadata['number_tracks']"
   ]
  },
  {
   "cell_type": "code",
   "execution_count": 10,
   "metadata": {
    "collapsed": false
   },
   "outputs": [
    {
     "data": {
      "text/plain": [
       "{'number_jets': 218280, 'number_tracks': 33}"
      ]
     },
     "execution_count": 10,
     "metadata": {},
     "output_type": "execute_result"
    }
   ],
   "source": [
    "metadata"
   ]
  },
  {
   "cell_type": "code",
   "execution_count": 2,
   "metadata": {
    "collapsed": false
   },
   "outputs": [],
   "source": [
    "readin = pd.read_hdf('/shome/phwindis/data/matched/1.h5')"
   ]
  },
  {
   "cell_type": "code",
   "execution_count": 36,
   "metadata": {
    "collapsed": false
   },
   "outputs": [],
   "source": [
    "tracks_reconstructed = create_track_list(readin, number_tracks, number_parameters)"
   ]
  },
  {
   "cell_type": "code",
   "execution_count": 30,
   "metadata": {
    "collapsed": false
   },
   "outputs": [],
   "source": [
    "flavours = np.array(abs(readin['Jet_flavour']) == 5)"
   ]
  },
  {
   "cell_type": "code",
   "execution_count": 28,
   "metadata": {
    "collapsed": false
   },
   "outputs": [
    {
     "data": {
      "text/plain": [
       "array([1, 0, 0, ..., 1, 0, 1])"
      ]
     },
     "execution_count": 28,
     "metadata": {},
     "output_type": "execute_result"
    }
   ],
   "source": [
    "np.array(flavours) * 1"
   ]
  },
  {
   "cell_type": "code",
   "execution_count": 34,
   "metadata": {
    "collapsed": false
   },
   "outputs": [],
   "source": [
    "flavours = flavours * 1"
   ]
  },
  {
   "cell_type": "code",
   "execution_count": 41,
   "metadata": {
    "collapsed": false
   },
   "outputs": [
    {
     "data": {
      "text/plain": [
       "array([[1],\n",
       "       [0],\n",
       "       [0],\n",
       "       ..., \n",
       "       [1],\n",
       "       [0],\n",
       "       [1]])"
      ]
     },
     "execution_count": 41,
     "metadata": {},
     "output_type": "execute_result"
    }
   ],
   "source": [
    "flavours.reshape((len(flavours),1))"
   ]
  },
  {
   "cell_type": "code",
   "execution_count": 37,
   "metadata": {
    "collapsed": false
   },
   "outputs": [
    {
     "data": {
      "text/plain": [
       "array([[[  2.94921875e+00,  -3.15134138e-01,  -2.41892505e+00, ...,\n",
       "           5.65006621e-02,   2.34374944e-02,   2.41832882e-01],\n",
       "        [  1.00546875e+01,  -3.76293212e-01,  -2.76434135e+00, ...,\n",
       "           1.14440946e-02,   1.13964770e-02,   7.37814903e-02],\n",
       "        [  2.63867188e+00,  -4.74623859e-01,  -2.40915179e+00, ...,\n",
       "           1.91296991e-02,   1.62890702e-02,   1.00551613e-01],\n",
       "        ..., \n",
       "        [  0.00000000e+00,   0.00000000e+00,   0.00000000e+00, ...,\n",
       "           0.00000000e+00,   0.00000000e+00,   0.00000000e+00],\n",
       "        [  0.00000000e+00,   0.00000000e+00,   0.00000000e+00, ...,\n",
       "           0.00000000e+00,   0.00000000e+00,   0.00000000e+00],\n",
       "        [  0.00000000e+00,   0.00000000e+00,   0.00000000e+00, ...,\n",
       "           0.00000000e+00,   0.00000000e+00,   0.00000000e+00]],\n",
       "\n",
       "       [[  4.66406250e+00,  -4.32142094e-02,   2.62967229e+00, ...,\n",
       "          -1.38634199e-03,  -1.36107870e-03,   1.38712360e-03],\n",
       "        [  3.04882812e+00,  -9.04568657e-02,   2.60525823e+00, ...,\n",
       "          -4.10225242e-03,  -1.58569159e-03,   5.10660820e-02],\n",
       "        [  1.13085938e+00,  -1.34403512e-01,   2.87175894e+00, ...,\n",
       "          -8.30811169e-03,  -4.43359045e-03,   2.46069301e-02],\n",
       "        ..., \n",
       "        [  0.00000000e+00,   0.00000000e+00,   0.00000000e+00, ...,\n",
       "           0.00000000e+00,   0.00000000e+00,   0.00000000e+00],\n",
       "        [  0.00000000e+00,   0.00000000e+00,   0.00000000e+00, ...,\n",
       "           0.00000000e+00,   0.00000000e+00,   0.00000000e+00],\n",
       "        [  0.00000000e+00,   0.00000000e+00,   0.00000000e+00, ...,\n",
       "           0.00000000e+00,   0.00000000e+00,   0.00000000e+00]],\n",
       "\n",
       "       [[  2.34218750e+01,  -9.15555298e-01,  -2.86981368e+00, ...,\n",
       "           1.14220753e-03,   1.05224538e-03,   4.23577148e-03],\n",
       "        [  6.16796875e+00,  -9.75249469e-01,  -2.96161556e+00, ...,\n",
       "          -2.26085447e-03,  -2.20825709e-03,   8.52708798e-03],\n",
       "        [  3.14687500e+01,  -1.29825735e+00,  -2.78221345e+00, ...,\n",
       "          -1.45128192e-02,  -1.44921876e-02,   5.95761873e-02],\n",
       "        ..., \n",
       "        [  0.00000000e+00,   0.00000000e+00,   0.00000000e+00, ...,\n",
       "           0.00000000e+00,   0.00000000e+00,   0.00000000e+00],\n",
       "        [  0.00000000e+00,   0.00000000e+00,   0.00000000e+00, ...,\n",
       "           0.00000000e+00,   0.00000000e+00,   0.00000000e+00],\n",
       "        [  0.00000000e+00,   0.00000000e+00,   0.00000000e+00, ...,\n",
       "           0.00000000e+00,   0.00000000e+00,   0.00000000e+00]],\n",
       "\n",
       "       ..., \n",
       "       [[  2.64648438e+00,  -1.53080851e-01,   1.46293902e+00, ...,\n",
       "           1.37931090e-02,   1.14355460e-02,   8.62767398e-02],\n",
       "        [  8.55468750e+00,  -3.34727019e-01,   1.45726991e+00, ...,\n",
       "           6.30780915e-03,  -1.84814446e-03,   7.82409161e-02],\n",
       "        [  2.98437500e+00,  -4.85061198e-01,   1.26507449e+00, ...,\n",
       "           7.46128708e-03,  -3.52783548e-03,   1.28700295e-02],\n",
       "        ..., \n",
       "        [  0.00000000e+00,   0.00000000e+00,   0.00000000e+00, ...,\n",
       "           0.00000000e+00,   0.00000000e+00,   0.00000000e+00],\n",
       "        [  0.00000000e+00,   0.00000000e+00,   0.00000000e+00, ...,\n",
       "           0.00000000e+00,   0.00000000e+00,   0.00000000e+00],\n",
       "        [  0.00000000e+00,   0.00000000e+00,   0.00000000e+00, ...,\n",
       "           0.00000000e+00,   0.00000000e+00,   0.00000000e+00]],\n",
       "\n",
       "       [[  5.73828125e+00,   9.24710810e-01,   2.07896805e+00, ...,\n",
       "          -2.20668921e-03,   2.36813517e-04,   7.53898453e-03],\n",
       "        [  1.51093750e+01,   8.20886850e-01,   1.98355603e+00, ...,\n",
       "           6.04476668e-02,   1.51269548e-02,   1.11510277e+00],\n",
       "        [  0.00000000e+00,   0.00000000e+00,   0.00000000e+00, ...,\n",
       "           0.00000000e+00,   0.00000000e+00,   0.00000000e+00],\n",
       "        ..., \n",
       "        [  0.00000000e+00,   0.00000000e+00,   0.00000000e+00, ...,\n",
       "           0.00000000e+00,   0.00000000e+00,   0.00000000e+00],\n",
       "        [  0.00000000e+00,   0.00000000e+00,   0.00000000e+00, ...,\n",
       "           0.00000000e+00,   0.00000000e+00,   0.00000000e+00],\n",
       "        [  0.00000000e+00,   0.00000000e+00,   0.00000000e+00, ...,\n",
       "           0.00000000e+00,   0.00000000e+00,   0.00000000e+00]],\n",
       "\n",
       "       [[  1.51855469e+00,   1.99865723e+00,  -2.16071701e+00, ...,\n",
       "           1.06027788e-02,   9.53125209e-03,   1.83411822e-01],\n",
       "        [  2.99218750e+00,   1.97997987e+00,  -2.25134158e+00, ...,\n",
       "           2.50616167e-02,   1.43066421e-02,   6.11185074e-01],\n",
       "        [  1.17031250e+01,   1.91918695e+00,  -2.51111269e+00, ...,\n",
       "           9.27253533e-03,   7.49510899e-03,   2.00548887e-01],\n",
       "        ..., \n",
       "        [  0.00000000e+00,   0.00000000e+00,   0.00000000e+00, ...,\n",
       "           0.00000000e+00,   0.00000000e+00,   0.00000000e+00],\n",
       "        [  0.00000000e+00,   0.00000000e+00,   0.00000000e+00, ...,\n",
       "           0.00000000e+00,   0.00000000e+00,   0.00000000e+00],\n",
       "        [  0.00000000e+00,   0.00000000e+00,   0.00000000e+00, ...,\n",
       "           0.00000000e+00,   0.00000000e+00,   0.00000000e+00]]])"
      ]
     },
     "execution_count": 37,
     "metadata": {},
     "output_type": "execute_result"
    },
    {
     "name": "stdout",
     "output_type": "stream",
     "text": [
      "\u0007"
     ]
    }
   ],
   "source": [
    "tracks_reconstructed"
   ]
  },
  {
   "cell_type": "code",
   "execution_count": null,
   "metadata": {
    "collapsed": true
   },
   "outputs": [],
   "source": []
  }
 ],
 "metadata": {
  "anaconda-cloud": {},
  "kernelspec": {
   "display_name": "Python [conda root]",
   "language": "python",
   "name": "conda-root-py"
  },
  "language_info": {
   "codemirror_mode": {
    "name": "ipython",
    "version": 2
   },
   "file_extension": ".py",
   "mimetype": "text/x-python",
   "name": "python",
   "nbconvert_exporter": "python",
   "pygments_lexer": "ipython2",
   "version": "2.7.12"
  }
 },
 "nbformat": 4,
 "nbformat_minor": 1
}
